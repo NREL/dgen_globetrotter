{
 "metadata": {
  "language_info": {
   "codemirror_mode": {
    "name": "ipython",
    "version": 3
   },
   "file_extension": ".py",
   "mimetype": "text/x-python",
   "name": "python",
   "nbconvert_exporter": "python",
   "pygments_lexer": "ipython3",
   "version": "3.8.5-final"
  },
  "orig_nbformat": 2,
  "kernelspec": {
   "name": "python38264bitdg3nconda98e8f2b53c594de780fc83c5a0779419",
   "display_name": "Python 3.8.2 64-bit ('dg3n': conda)"
  }
 },
 "nbformat": 4,
 "nbformat_minor": 2,
 "cells": [
  {
   "cell_type": "code",
   "execution_count": 20,
   "metadata": {},
   "outputs": [],
   "source": [
    "import pandas as pd\n",
    "import os\n",
    "import json\n",
    "\n",
    "pd.set_option('display.max_rows', 500)\n",
    "pd.set_option('display.max_columns', 500)\n",
    "pd.set_option('display.width', 1000)\n",
    "\n",
    "df = pd.read_csv('input_scenarios/india_base/agent_core_attributes.csv')\n"
   ]
  },
  {
   "cell_type": "code",
   "execution_count": 22,
   "metadata": {},
   "outputs": [
    {
     "output_type": "execute_result",
     "data": {
      "text/plain": "Index(['state_name', 'sector_abbr', 'geo_sector_n_agents', 'owner_occupancy_status', 'developable_buildings_pct', 'cap_cost_multiplier', 'district_name', 'developable_roof_sqft', 'load_per_customer_in_bin_kwh', 'customers_in_bin', 'state_id', 'district_id', 'tariff_id', 'social_indicator', 'fuzzy_str', 'clean_str', 'centroid', 'load_in_bin_kwh', 'compensation_style', 'tech'], dtype='object')"
     },
     "metadata": {},
     "execution_count": 22
    }
   ],
   "source": [
    "df.columns"
   ]
  },
  {
   "cell_type": "code",
   "execution_count": 32,
   "metadata": {},
   "outputs": [
    {
     "output_type": "execute_result",
     "data": {
      "text/plain": "sector_abbr\nagg       837679.0\ncom     70337910.0\nind       798368.0\nres    448965369.0\nName: customers_in_bin, dtype: float64"
     },
     "metadata": {},
     "execution_count": 32
    }
   ],
   "source": [
    "df.groupby(['sector_abbr'])['customers_in_bin'].sum()"
   ]
  },
  {
   "cell_type": "code",
   "execution_count": 34,
   "metadata": {},
   "outputs": [
    {
     "output_type": "execute_result",
     "data": {
      "text/plain": "             developable_roof_sqft  load_per_customer_in_bin_kwh\nsector_abbr                                                     \nagg                   21586.625723                  2.728279e+06\ncom                    1305.760081                  9.405178e+03\nind                   14647.537727                  4.027070e+06\nres                     159.334524                  7.476737e+02",
      "text/html": "<div>\n<style scoped>\n    .dataframe tbody tr th:only-of-type {\n        vertical-align: middle;\n    }\n\n    .dataframe tbody tr th {\n        vertical-align: top;\n    }\n\n    .dataframe thead th {\n        text-align: right;\n    }\n</style>\n<table border=\"1\" class=\"dataframe\">\n  <thead>\n    <tr style=\"text-align: right;\">\n      <th></th>\n      <th>developable_roof_sqft</th>\n      <th>load_per_customer_in_bin_kwh</th>\n    </tr>\n    <tr>\n      <th>sector_abbr</th>\n      <th></th>\n      <th></th>\n    </tr>\n  </thead>\n  <tbody>\n    <tr>\n      <th>agg</th>\n      <td>21586.625723</td>\n      <td>2.728279e+06</td>\n    </tr>\n    <tr>\n      <th>com</th>\n      <td>1305.760081</td>\n      <td>9.405178e+03</td>\n    </tr>\n    <tr>\n      <th>ind</th>\n      <td>14647.537727</td>\n      <td>4.027070e+06</td>\n    </tr>\n    <tr>\n      <th>res</th>\n      <td>159.334524</td>\n      <td>7.476737e+02</td>\n    </tr>\n  </tbody>\n</table>\n</div>"
     },
     "metadata": {},
     "execution_count": 34
    }
   ],
   "source": [
    "df.groupby(['sector_abbr'])[['developable_roof_sqft', 'load_per_customer_in_bin_kwh']].mean()"
   ]
  },
  {
   "cell_type": "code",
   "execution_count": 36,
   "metadata": {},
   "outputs": [
    {
     "output_type": "error",
     "ename": "KeyError",
     "evalue": "\"Columns not found: 'q', 'p'\"",
     "traceback": [
      "\u001b[0;31m---------------------------------------------------------------------------\u001b[0m",
      "\u001b[0;31mKeyError\u001b[0m                                  Traceback (most recent call last)",
      "\u001b[0;32m<ipython-input-36-78c7014a18fe>\u001b[0m in \u001b[0;36m<module>\u001b[0;34m\u001b[0m\n\u001b[1;32m      1\u001b[0m \u001b[0mfinancing\u001b[0m \u001b[0;34m=\u001b[0m \u001b[0mpd\u001b[0m\u001b[0;34m.\u001b[0m\u001b[0mread_csv\u001b[0m\u001b[0;34m(\u001b[0m\u001b[0;34m'input_scenarios/india_base/financing_rates.csv'\u001b[0m\u001b[0;34m)\u001b[0m\u001b[0;34m\u001b[0m\u001b[0;34m\u001b[0m\u001b[0m\n\u001b[0;32m----> 2\u001b[0;31m \u001b[0mfinancing\u001b[0m\u001b[0;34m.\u001b[0m\u001b[0mgroupby\u001b[0m\u001b[0;34m(\u001b[0m\u001b[0;34m[\u001b[0m\u001b[0;34m'sector_abbr'\u001b[0m\u001b[0;34m]\u001b[0m\u001b[0;34m)\u001b[0m\u001b[0;34m[\u001b[0m\u001b[0;34m[\u001b[0m\u001b[0;34m'p'\u001b[0m\u001b[0;34m,\u001b[0m\u001b[0;34m'q'\u001b[0m\u001b[0;34m]\u001b[0m\u001b[0;34m]\u001b[0m\u001b[0;34m.\u001b[0m\u001b[0mdescribe\u001b[0m\u001b[0;34m(\u001b[0m\u001b[0;34m)\u001b[0m\u001b[0;34m\u001b[0m\u001b[0;34m\u001b[0m\u001b[0m\n\u001b[0m",
      "\u001b[0;32m~/anaconda2/envs/dg3n/lib/python3.8/site-packages/pandas/core/groupby/generic.py\u001b[0m in \u001b[0;36m__getitem__\u001b[0;34m(self, key)\u001b[0m\n\u001b[1;32m   1601\u001b[0m                 \u001b[0mstacklevel\u001b[0m\u001b[0;34m=\u001b[0m\u001b[0;36m2\u001b[0m\u001b[0;34m,\u001b[0m\u001b[0;34m\u001b[0m\u001b[0;34m\u001b[0m\u001b[0m\n\u001b[1;32m   1602\u001b[0m             )\n\u001b[0;32m-> 1603\u001b[0;31m         \u001b[0;32mreturn\u001b[0m \u001b[0msuper\u001b[0m\u001b[0;34m(\u001b[0m\u001b[0;34m)\u001b[0m\u001b[0;34m.\u001b[0m\u001b[0m__getitem__\u001b[0m\u001b[0;34m(\u001b[0m\u001b[0mkey\u001b[0m\u001b[0;34m)\u001b[0m\u001b[0;34m\u001b[0m\u001b[0;34m\u001b[0m\u001b[0m\n\u001b[0m\u001b[1;32m   1604\u001b[0m \u001b[0;34m\u001b[0m\u001b[0m\n\u001b[1;32m   1605\u001b[0m     \u001b[0;32mdef\u001b[0m \u001b[0m_gotitem\u001b[0m\u001b[0;34m(\u001b[0m\u001b[0mself\u001b[0m\u001b[0;34m,\u001b[0m \u001b[0mkey\u001b[0m\u001b[0;34m,\u001b[0m \u001b[0mndim\u001b[0m\u001b[0;34m:\u001b[0m \u001b[0mint\u001b[0m\u001b[0;34m,\u001b[0m \u001b[0msubset\u001b[0m\u001b[0;34m=\u001b[0m\u001b[0;32mNone\u001b[0m\u001b[0;34m)\u001b[0m\u001b[0;34m:\u001b[0m\u001b[0;34m\u001b[0m\u001b[0;34m\u001b[0m\u001b[0m\n",
      "\u001b[0;32m~/anaconda2/envs/dg3n/lib/python3.8/site-packages/pandas/core/base.py\u001b[0m in \u001b[0;36m__getitem__\u001b[0;34m(self, key)\u001b[0m\n\u001b[1;32m    218\u001b[0m             \u001b[0;32mif\u001b[0m \u001b[0mlen\u001b[0m\u001b[0;34m(\u001b[0m\u001b[0mself\u001b[0m\u001b[0;34m.\u001b[0m\u001b[0mobj\u001b[0m\u001b[0;34m.\u001b[0m\u001b[0mcolumns\u001b[0m\u001b[0;34m.\u001b[0m\u001b[0mintersection\u001b[0m\u001b[0;34m(\u001b[0m\u001b[0mkey\u001b[0m\u001b[0;34m)\u001b[0m\u001b[0;34m)\u001b[0m \u001b[0;34m!=\u001b[0m \u001b[0mlen\u001b[0m\u001b[0;34m(\u001b[0m\u001b[0mkey\u001b[0m\u001b[0;34m)\u001b[0m\u001b[0;34m:\u001b[0m\u001b[0;34m\u001b[0m\u001b[0;34m\u001b[0m\u001b[0m\n\u001b[1;32m    219\u001b[0m                 \u001b[0mbad_keys\u001b[0m \u001b[0;34m=\u001b[0m \u001b[0mlist\u001b[0m\u001b[0;34m(\u001b[0m\u001b[0mset\u001b[0m\u001b[0;34m(\u001b[0m\u001b[0mkey\u001b[0m\u001b[0;34m)\u001b[0m\u001b[0;34m.\u001b[0m\u001b[0mdifference\u001b[0m\u001b[0;34m(\u001b[0m\u001b[0mself\u001b[0m\u001b[0;34m.\u001b[0m\u001b[0mobj\u001b[0m\u001b[0;34m.\u001b[0m\u001b[0mcolumns\u001b[0m\u001b[0;34m)\u001b[0m\u001b[0;34m)\u001b[0m\u001b[0;34m\u001b[0m\u001b[0;34m\u001b[0m\u001b[0m\n\u001b[0;32m--> 220\u001b[0;31m                 \u001b[0;32mraise\u001b[0m \u001b[0mKeyError\u001b[0m\u001b[0;34m(\u001b[0m\u001b[0;34mf\"Columns not found: {str(bad_keys)[1:-1]}\"\u001b[0m\u001b[0;34m)\u001b[0m\u001b[0;34m\u001b[0m\u001b[0;34m\u001b[0m\u001b[0m\n\u001b[0m\u001b[1;32m    221\u001b[0m             \u001b[0;32mreturn\u001b[0m \u001b[0mself\u001b[0m\u001b[0;34m.\u001b[0m\u001b[0m_gotitem\u001b[0m\u001b[0;34m(\u001b[0m\u001b[0mlist\u001b[0m\u001b[0;34m(\u001b[0m\u001b[0mkey\u001b[0m\u001b[0;34m)\u001b[0m\u001b[0;34m,\u001b[0m \u001b[0mndim\u001b[0m\u001b[0;34m=\u001b[0m\u001b[0;36m2\u001b[0m\u001b[0;34m)\u001b[0m\u001b[0;34m\u001b[0m\u001b[0;34m\u001b[0m\u001b[0m\n\u001b[1;32m    222\u001b[0m \u001b[0;34m\u001b[0m\u001b[0m\n",
      "\u001b[0;31mKeyError\u001b[0m: \"Columns not found: 'q', 'p'\""
     ]
    }
   ],
   "source": [
    "financing = pd.read_csv('input_scenarios/india_base/financing_rates.csv')\n",
    "financing.groupby(['sector_abbr'])[['p','q']].describe()"
   ]
  },
  {
   "cell_type": "code",
   "execution_count": 37,
   "metadata": {},
   "outputs": [
    {
     "output_type": "execute_result",
     "data": {
      "text/plain": "     state_id  social_indicator sector_abbr  discount_rate  loan_rate  down_payment\n0          35          0.680027         res       0.069253       0.05           0.2\n1          28          0.650000         res       0.078128       0.05           0.2\n2          12          0.660000         res       0.075172       0.05           0.2\n3          18          0.614000         res       0.088768       0.05           0.2\n4          10          0.576000         res       0.100000       0.05           0.2\n5           4          0.680027         res       0.069253       0.05           0.2\n6          22          0.613000         res       0.089064       0.05           0.2\n7          26          0.680027         res       0.069253       0.05           0.2\n8          25          0.680027         res       0.069253       0.05           0.2\n9          30          0.761000         res       0.045320       0.05           0.2\n10         24          0.672000         res       0.071626       0.05           0.2\n11          6          0.708000         res       0.060985       0.05           0.2\n12          2          0.725000         res       0.055961       0.05           0.2\n13          1          0.680027         res       0.069253       0.05           0.2\n14         20          0.599000         res       0.093202       0.05           0.2\n15         29          0.682000         res       0.068670       0.05           0.2\n16         32          0.779000         res       0.040000       0.05           0.2\n17         31          0.750000         res       0.048571       0.05           0.2\n18         23          0.606000         res       0.091133       0.05           0.2\n19         27          0.696000         res       0.064532       0.05           0.2\n20         14          0.696000         res       0.064532       0.05           0.2\n21         17          0.656000         res       0.076355       0.05           0.2\n22         15          0.705000         res       0.061872       0.05           0.2\n23         13          0.679000         res       0.069557       0.05           0.2\n24          7          0.680027         res       0.069253       0.05           0.2\n25         21          0.680027         res       0.069253       0.05           0.2\n26         34          0.738000         res       0.052118       0.05           0.2\n27          3          0.723000         res       0.056552       0.05           0.2\n28          8          0.629000         res       0.084335       0.05           0.2\n29         11          0.716000         res       0.058621       0.05           0.2\n30         33          0.708000         res       0.060985       0.05           0.2\n31         16          0.658000         res       0.075764       0.05           0.2\n32          9          0.596000         res       0.094089       0.05           0.2\n33          5          0.680027         res       0.069253       0.05           0.2\n34         19          0.641000         res       0.080788       0.05           0.2\n35         35          0.680027         com       0.079502       0.05           0.2\n36         28          0.650000         com       0.085419       0.05           0.2\n37         12          0.660000         com       0.083448       0.05           0.2\n38         18          0.614000         com       0.092512       0.05           0.2\n39         10          0.576000         com       0.100000       0.05           0.2\n40          4          0.680027         com       0.079502       0.05           0.2\n41         22          0.613000         com       0.092709       0.05           0.2\n42         26          0.680027         com       0.079502       0.05           0.2\n43         25          0.680027         com       0.079502       0.05           0.2\n44         30          0.761000         com       0.063547       0.05           0.2\n45         24          0.672000         com       0.081084       0.05           0.2\n46          6          0.708000         com       0.073990       0.05           0.2\n47          2          0.725000         com       0.070640       0.05           0.2\n48          1          0.680027         com       0.079502       0.05           0.2\n49         20          0.599000         com       0.095468       0.05           0.2\n50         29          0.682000         com       0.079113       0.05           0.2\n51         32          0.779000         com       0.060000       0.05           0.2\n52         31          0.750000         com       0.065714       0.05           0.2\n53         23          0.606000         com       0.094089       0.05           0.2\n54         27          0.696000         com       0.076355       0.05           0.2\n55         14          0.696000         com       0.076355       0.05           0.2\n56         17          0.656000         com       0.084236       0.05           0.2\n57         15          0.705000         com       0.074581       0.05           0.2\n58         13          0.679000         com       0.079704       0.05           0.2\n59          7          0.680027         com       0.079502       0.05           0.2\n60         21          0.680027         com       0.079502       0.05           0.2\n61         34          0.738000         com       0.068079       0.05           0.2\n62          3          0.723000         com       0.071034       0.05           0.2\n63          8          0.629000         com       0.089557       0.05           0.2\n64         11          0.716000         com       0.072414       0.05           0.2\n65         33          0.708000         com       0.073990       0.05           0.2\n66         16          0.658000         com       0.083842       0.05           0.2\n67          9          0.596000         com       0.096059       0.05           0.2\n68          5          0.680027         com       0.079502       0.05           0.2\n69         19          0.641000         com       0.087192       0.05           0.2\n70         35          0.680027         ind       0.089751       0.05           0.2\n71         28          0.650000         ind       0.092709       0.05           0.2\n72         12          0.660000         ind       0.091724       0.05           0.2\n73         18          0.614000         ind       0.096256       0.05           0.2\n74         10          0.576000         ind       0.100000       0.05           0.2\n75          4          0.680027         ind       0.089751       0.05           0.2\n76         22          0.613000         ind       0.096355       0.05           0.2\n77         26          0.680027         ind       0.089751       0.05           0.2\n78         25          0.680027         ind       0.089751       0.05           0.2\n79         30          0.761000         ind       0.081773       0.05           0.2\n80         24          0.672000         ind       0.090542       0.05           0.2\n81          6          0.708000         ind       0.086995       0.05           0.2\n82          2          0.725000         ind       0.085320       0.05           0.2\n83          1          0.680027         ind       0.089751       0.05           0.2\n84         20          0.599000         ind       0.097734       0.05           0.2\n85         29          0.682000         ind       0.089557       0.05           0.2\n86         32          0.779000         ind       0.080000       0.05           0.2\n87         31          0.750000         ind       0.082857       0.05           0.2\n88         23          0.606000         ind       0.097044       0.05           0.2\n89         27          0.696000         ind       0.088177       0.05           0.2\n90         14          0.696000         ind       0.088177       0.05           0.2\n91         17          0.656000         ind       0.092118       0.05           0.2\n92         15          0.705000         ind       0.087291       0.05           0.2\n93         13          0.679000         ind       0.089852       0.05           0.2\n94          7          0.680027         ind       0.089751       0.05           0.2\n95         21          0.680027         ind       0.089751       0.05           0.2\n96         34          0.738000         ind       0.084039       0.05           0.2\n97          3          0.723000         ind       0.085517       0.05           0.2\n98          8          0.629000         ind       0.094778       0.05           0.2\n99         11          0.716000         ind       0.086207       0.05           0.2\n100        33          0.708000         ind       0.086995       0.05           0.2\n101        16          0.658000         ind       0.091921       0.05           0.2\n102         9          0.596000         ind       0.098030       0.05           0.2\n103         5          0.680027         ind       0.089751       0.05           0.2\n104        19          0.641000         ind       0.093596       0.05           0.2",
      "text/html": "<div>\n<style scoped>\n    .dataframe tbody tr th:only-of-type {\n        vertical-align: middle;\n    }\n\n    .dataframe tbody tr th {\n        vertical-align: top;\n    }\n\n    .dataframe thead th {\n        text-align: right;\n    }\n</style>\n<table border=\"1\" class=\"dataframe\">\n  <thead>\n    <tr style=\"text-align: right;\">\n      <th></th>\n      <th>state_id</th>\n      <th>social_indicator</th>\n      <th>sector_abbr</th>\n      <th>discount_rate</th>\n      <th>loan_rate</th>\n      <th>down_payment</th>\n    </tr>\n  </thead>\n  <tbody>\n    <tr>\n      <th>0</th>\n      <td>35</td>\n      <td>0.680027</td>\n      <td>res</td>\n      <td>0.069253</td>\n      <td>0.05</td>\n      <td>0.2</td>\n    </tr>\n    <tr>\n      <th>1</th>\n      <td>28</td>\n      <td>0.650000</td>\n      <td>res</td>\n      <td>0.078128</td>\n      <td>0.05</td>\n      <td>0.2</td>\n    </tr>\n    <tr>\n      <th>2</th>\n      <td>12</td>\n      <td>0.660000</td>\n      <td>res</td>\n      <td>0.075172</td>\n      <td>0.05</td>\n      <td>0.2</td>\n    </tr>\n    <tr>\n      <th>3</th>\n      <td>18</td>\n      <td>0.614000</td>\n      <td>res</td>\n      <td>0.088768</td>\n      <td>0.05</td>\n      <td>0.2</td>\n    </tr>\n    <tr>\n      <th>4</th>\n      <td>10</td>\n      <td>0.576000</td>\n      <td>res</td>\n      <td>0.100000</td>\n      <td>0.05</td>\n      <td>0.2</td>\n    </tr>\n    <tr>\n      <th>5</th>\n      <td>4</td>\n      <td>0.680027</td>\n      <td>res</td>\n      <td>0.069253</td>\n      <td>0.05</td>\n      <td>0.2</td>\n    </tr>\n    <tr>\n      <th>6</th>\n      <td>22</td>\n      <td>0.613000</td>\n      <td>res</td>\n      <td>0.089064</td>\n      <td>0.05</td>\n      <td>0.2</td>\n    </tr>\n    <tr>\n      <th>7</th>\n      <td>26</td>\n      <td>0.680027</td>\n      <td>res</td>\n      <td>0.069253</td>\n      <td>0.05</td>\n      <td>0.2</td>\n    </tr>\n    <tr>\n      <th>8</th>\n      <td>25</td>\n      <td>0.680027</td>\n      <td>res</td>\n      <td>0.069253</td>\n      <td>0.05</td>\n      <td>0.2</td>\n    </tr>\n    <tr>\n      <th>9</th>\n      <td>30</td>\n      <td>0.761000</td>\n      <td>res</td>\n      <td>0.045320</td>\n      <td>0.05</td>\n      <td>0.2</td>\n    </tr>\n    <tr>\n      <th>10</th>\n      <td>24</td>\n      <td>0.672000</td>\n      <td>res</td>\n      <td>0.071626</td>\n      <td>0.05</td>\n      <td>0.2</td>\n    </tr>\n    <tr>\n      <th>11</th>\n      <td>6</td>\n      <td>0.708000</td>\n      <td>res</td>\n      <td>0.060985</td>\n      <td>0.05</td>\n      <td>0.2</td>\n    </tr>\n    <tr>\n      <th>12</th>\n      <td>2</td>\n      <td>0.725000</td>\n      <td>res</td>\n      <td>0.055961</td>\n      <td>0.05</td>\n      <td>0.2</td>\n    </tr>\n    <tr>\n      <th>13</th>\n      <td>1</td>\n      <td>0.680027</td>\n      <td>res</td>\n      <td>0.069253</td>\n      <td>0.05</td>\n      <td>0.2</td>\n    </tr>\n    <tr>\n      <th>14</th>\n      <td>20</td>\n      <td>0.599000</td>\n      <td>res</td>\n      <td>0.093202</td>\n      <td>0.05</td>\n      <td>0.2</td>\n    </tr>\n    <tr>\n      <th>15</th>\n      <td>29</td>\n      <td>0.682000</td>\n      <td>res</td>\n      <td>0.068670</td>\n      <td>0.05</td>\n      <td>0.2</td>\n    </tr>\n    <tr>\n      <th>16</th>\n      <td>32</td>\n      <td>0.779000</td>\n      <td>res</td>\n      <td>0.040000</td>\n      <td>0.05</td>\n      <td>0.2</td>\n    </tr>\n    <tr>\n      <th>17</th>\n      <td>31</td>\n      <td>0.750000</td>\n      <td>res</td>\n      <td>0.048571</td>\n      <td>0.05</td>\n      <td>0.2</td>\n    </tr>\n    <tr>\n      <th>18</th>\n      <td>23</td>\n      <td>0.606000</td>\n      <td>res</td>\n      <td>0.091133</td>\n      <td>0.05</td>\n      <td>0.2</td>\n    </tr>\n    <tr>\n      <th>19</th>\n      <td>27</td>\n      <td>0.696000</td>\n      <td>res</td>\n      <td>0.064532</td>\n      <td>0.05</td>\n      <td>0.2</td>\n    </tr>\n    <tr>\n      <th>20</th>\n      <td>14</td>\n      <td>0.696000</td>\n      <td>res</td>\n      <td>0.064532</td>\n      <td>0.05</td>\n      <td>0.2</td>\n    </tr>\n    <tr>\n      <th>21</th>\n      <td>17</td>\n      <td>0.656000</td>\n      <td>res</td>\n      <td>0.076355</td>\n      <td>0.05</td>\n      <td>0.2</td>\n    </tr>\n    <tr>\n      <th>22</th>\n      <td>15</td>\n      <td>0.705000</td>\n      <td>res</td>\n      <td>0.061872</td>\n      <td>0.05</td>\n      <td>0.2</td>\n    </tr>\n    <tr>\n      <th>23</th>\n      <td>13</td>\n      <td>0.679000</td>\n      <td>res</td>\n      <td>0.069557</td>\n      <td>0.05</td>\n      <td>0.2</td>\n    </tr>\n    <tr>\n      <th>24</th>\n      <td>7</td>\n      <td>0.680027</td>\n      <td>res</td>\n      <td>0.069253</td>\n      <td>0.05</td>\n      <td>0.2</td>\n    </tr>\n    <tr>\n      <th>25</th>\n      <td>21</td>\n      <td>0.680027</td>\n      <td>res</td>\n      <td>0.069253</td>\n      <td>0.05</td>\n      <td>0.2</td>\n    </tr>\n    <tr>\n      <th>26</th>\n      <td>34</td>\n      <td>0.738000</td>\n      <td>res</td>\n      <td>0.052118</td>\n      <td>0.05</td>\n      <td>0.2</td>\n    </tr>\n    <tr>\n      <th>27</th>\n      <td>3</td>\n      <td>0.723000</td>\n      <td>res</td>\n      <td>0.056552</td>\n      <td>0.05</td>\n      <td>0.2</td>\n    </tr>\n    <tr>\n      <th>28</th>\n      <td>8</td>\n      <td>0.629000</td>\n      <td>res</td>\n      <td>0.084335</td>\n      <td>0.05</td>\n      <td>0.2</td>\n    </tr>\n    <tr>\n      <th>29</th>\n      <td>11</td>\n      <td>0.716000</td>\n      <td>res</td>\n      <td>0.058621</td>\n      <td>0.05</td>\n      <td>0.2</td>\n    </tr>\n    <tr>\n      <th>30</th>\n      <td>33</td>\n      <td>0.708000</td>\n      <td>res</td>\n      <td>0.060985</td>\n      <td>0.05</td>\n      <td>0.2</td>\n    </tr>\n    <tr>\n      <th>31</th>\n      <td>16</td>\n      <td>0.658000</td>\n      <td>res</td>\n      <td>0.075764</td>\n      <td>0.05</td>\n      <td>0.2</td>\n    </tr>\n    <tr>\n      <th>32</th>\n      <td>9</td>\n      <td>0.596000</td>\n      <td>res</td>\n      <td>0.094089</td>\n      <td>0.05</td>\n      <td>0.2</td>\n    </tr>\n    <tr>\n      <th>33</th>\n      <td>5</td>\n      <td>0.680027</td>\n      <td>res</td>\n      <td>0.069253</td>\n      <td>0.05</td>\n      <td>0.2</td>\n    </tr>\n    <tr>\n      <th>34</th>\n      <td>19</td>\n      <td>0.641000</td>\n      <td>res</td>\n      <td>0.080788</td>\n      <td>0.05</td>\n      <td>0.2</td>\n    </tr>\n    <tr>\n      <th>35</th>\n      <td>35</td>\n      <td>0.680027</td>\n      <td>com</td>\n      <td>0.079502</td>\n      <td>0.05</td>\n      <td>0.2</td>\n    </tr>\n    <tr>\n      <th>36</th>\n      <td>28</td>\n      <td>0.650000</td>\n      <td>com</td>\n      <td>0.085419</td>\n      <td>0.05</td>\n      <td>0.2</td>\n    </tr>\n    <tr>\n      <th>37</th>\n      <td>12</td>\n      <td>0.660000</td>\n      <td>com</td>\n      <td>0.083448</td>\n      <td>0.05</td>\n      <td>0.2</td>\n    </tr>\n    <tr>\n      <th>38</th>\n      <td>18</td>\n      <td>0.614000</td>\n      <td>com</td>\n      <td>0.092512</td>\n      <td>0.05</td>\n      <td>0.2</td>\n    </tr>\n    <tr>\n      <th>39</th>\n      <td>10</td>\n      <td>0.576000</td>\n      <td>com</td>\n      <td>0.100000</td>\n      <td>0.05</td>\n      <td>0.2</td>\n    </tr>\n    <tr>\n      <th>40</th>\n      <td>4</td>\n      <td>0.680027</td>\n      <td>com</td>\n      <td>0.079502</td>\n      <td>0.05</td>\n      <td>0.2</td>\n    </tr>\n    <tr>\n      <th>41</th>\n      <td>22</td>\n      <td>0.613000</td>\n      <td>com</td>\n      <td>0.092709</td>\n      <td>0.05</td>\n      <td>0.2</td>\n    </tr>\n    <tr>\n      <th>42</th>\n      <td>26</td>\n      <td>0.680027</td>\n      <td>com</td>\n      <td>0.079502</td>\n      <td>0.05</td>\n      <td>0.2</td>\n    </tr>\n    <tr>\n      <th>43</th>\n      <td>25</td>\n      <td>0.680027</td>\n      <td>com</td>\n      <td>0.079502</td>\n      <td>0.05</td>\n      <td>0.2</td>\n    </tr>\n    <tr>\n      <th>44</th>\n      <td>30</td>\n      <td>0.761000</td>\n      <td>com</td>\n      <td>0.063547</td>\n      <td>0.05</td>\n      <td>0.2</td>\n    </tr>\n    <tr>\n      <th>45</th>\n      <td>24</td>\n      <td>0.672000</td>\n      <td>com</td>\n      <td>0.081084</td>\n      <td>0.05</td>\n      <td>0.2</td>\n    </tr>\n    <tr>\n      <th>46</th>\n      <td>6</td>\n      <td>0.708000</td>\n      <td>com</td>\n      <td>0.073990</td>\n      <td>0.05</td>\n      <td>0.2</td>\n    </tr>\n    <tr>\n      <th>47</th>\n      <td>2</td>\n      <td>0.725000</td>\n      <td>com</td>\n      <td>0.070640</td>\n      <td>0.05</td>\n      <td>0.2</td>\n    </tr>\n    <tr>\n      <th>48</th>\n      <td>1</td>\n      <td>0.680027</td>\n      <td>com</td>\n      <td>0.079502</td>\n      <td>0.05</td>\n      <td>0.2</td>\n    </tr>\n    <tr>\n      <th>49</th>\n      <td>20</td>\n      <td>0.599000</td>\n      <td>com</td>\n      <td>0.095468</td>\n      <td>0.05</td>\n      <td>0.2</td>\n    </tr>\n    <tr>\n      <th>50</th>\n      <td>29</td>\n      <td>0.682000</td>\n      <td>com</td>\n      <td>0.079113</td>\n      <td>0.05</td>\n      <td>0.2</td>\n    </tr>\n    <tr>\n      <th>51</th>\n      <td>32</td>\n      <td>0.779000</td>\n      <td>com</td>\n      <td>0.060000</td>\n      <td>0.05</td>\n      <td>0.2</td>\n    </tr>\n    <tr>\n      <th>52</th>\n      <td>31</td>\n      <td>0.750000</td>\n      <td>com</td>\n      <td>0.065714</td>\n      <td>0.05</td>\n      <td>0.2</td>\n    </tr>\n    <tr>\n      <th>53</th>\n      <td>23</td>\n      <td>0.606000</td>\n      <td>com</td>\n      <td>0.094089</td>\n      <td>0.05</td>\n      <td>0.2</td>\n    </tr>\n    <tr>\n      <th>54</th>\n      <td>27</td>\n      <td>0.696000</td>\n      <td>com</td>\n      <td>0.076355</td>\n      <td>0.05</td>\n      <td>0.2</td>\n    </tr>\n    <tr>\n      <th>55</th>\n      <td>14</td>\n      <td>0.696000</td>\n      <td>com</td>\n      <td>0.076355</td>\n      <td>0.05</td>\n      <td>0.2</td>\n    </tr>\n    <tr>\n      <th>56</th>\n      <td>17</td>\n      <td>0.656000</td>\n      <td>com</td>\n      <td>0.084236</td>\n      <td>0.05</td>\n      <td>0.2</td>\n    </tr>\n    <tr>\n      <th>57</th>\n      <td>15</td>\n      <td>0.705000</td>\n      <td>com</td>\n      <td>0.074581</td>\n      <td>0.05</td>\n      <td>0.2</td>\n    </tr>\n    <tr>\n      <th>58</th>\n      <td>13</td>\n      <td>0.679000</td>\n      <td>com</td>\n      <td>0.079704</td>\n      <td>0.05</td>\n      <td>0.2</td>\n    </tr>\n    <tr>\n      <th>59</th>\n      <td>7</td>\n      <td>0.680027</td>\n      <td>com</td>\n      <td>0.079502</td>\n      <td>0.05</td>\n      <td>0.2</td>\n    </tr>\n    <tr>\n      <th>60</th>\n      <td>21</td>\n      <td>0.680027</td>\n      <td>com</td>\n      <td>0.079502</td>\n      <td>0.05</td>\n      <td>0.2</td>\n    </tr>\n    <tr>\n      <th>61</th>\n      <td>34</td>\n      <td>0.738000</td>\n      <td>com</td>\n      <td>0.068079</td>\n      <td>0.05</td>\n      <td>0.2</td>\n    </tr>\n    <tr>\n      <th>62</th>\n      <td>3</td>\n      <td>0.723000</td>\n      <td>com</td>\n      <td>0.071034</td>\n      <td>0.05</td>\n      <td>0.2</td>\n    </tr>\n    <tr>\n      <th>63</th>\n      <td>8</td>\n      <td>0.629000</td>\n      <td>com</td>\n      <td>0.089557</td>\n      <td>0.05</td>\n      <td>0.2</td>\n    </tr>\n    <tr>\n      <th>64</th>\n      <td>11</td>\n      <td>0.716000</td>\n      <td>com</td>\n      <td>0.072414</td>\n      <td>0.05</td>\n      <td>0.2</td>\n    </tr>\n    <tr>\n      <th>65</th>\n      <td>33</td>\n      <td>0.708000</td>\n      <td>com</td>\n      <td>0.073990</td>\n      <td>0.05</td>\n      <td>0.2</td>\n    </tr>\n    <tr>\n      <th>66</th>\n      <td>16</td>\n      <td>0.658000</td>\n      <td>com</td>\n      <td>0.083842</td>\n      <td>0.05</td>\n      <td>0.2</td>\n    </tr>\n    <tr>\n      <th>67</th>\n      <td>9</td>\n      <td>0.596000</td>\n      <td>com</td>\n      <td>0.096059</td>\n      <td>0.05</td>\n      <td>0.2</td>\n    </tr>\n    <tr>\n      <th>68</th>\n      <td>5</td>\n      <td>0.680027</td>\n      <td>com</td>\n      <td>0.079502</td>\n      <td>0.05</td>\n      <td>0.2</td>\n    </tr>\n    <tr>\n      <th>69</th>\n      <td>19</td>\n      <td>0.641000</td>\n      <td>com</td>\n      <td>0.087192</td>\n      <td>0.05</td>\n      <td>0.2</td>\n    </tr>\n    <tr>\n      <th>70</th>\n      <td>35</td>\n      <td>0.680027</td>\n      <td>ind</td>\n      <td>0.089751</td>\n      <td>0.05</td>\n      <td>0.2</td>\n    </tr>\n    <tr>\n      <th>71</th>\n      <td>28</td>\n      <td>0.650000</td>\n      <td>ind</td>\n      <td>0.092709</td>\n      <td>0.05</td>\n      <td>0.2</td>\n    </tr>\n    <tr>\n      <th>72</th>\n      <td>12</td>\n      <td>0.660000</td>\n      <td>ind</td>\n      <td>0.091724</td>\n      <td>0.05</td>\n      <td>0.2</td>\n    </tr>\n    <tr>\n      <th>73</th>\n      <td>18</td>\n      <td>0.614000</td>\n      <td>ind</td>\n      <td>0.096256</td>\n      <td>0.05</td>\n      <td>0.2</td>\n    </tr>\n    <tr>\n      <th>74</th>\n      <td>10</td>\n      <td>0.576000</td>\n      <td>ind</td>\n      <td>0.100000</td>\n      <td>0.05</td>\n      <td>0.2</td>\n    </tr>\n    <tr>\n      <th>75</th>\n      <td>4</td>\n      <td>0.680027</td>\n      <td>ind</td>\n      <td>0.089751</td>\n      <td>0.05</td>\n      <td>0.2</td>\n    </tr>\n    <tr>\n      <th>76</th>\n      <td>22</td>\n      <td>0.613000</td>\n      <td>ind</td>\n      <td>0.096355</td>\n      <td>0.05</td>\n      <td>0.2</td>\n    </tr>\n    <tr>\n      <th>77</th>\n      <td>26</td>\n      <td>0.680027</td>\n      <td>ind</td>\n      <td>0.089751</td>\n      <td>0.05</td>\n      <td>0.2</td>\n    </tr>\n    <tr>\n      <th>78</th>\n      <td>25</td>\n      <td>0.680027</td>\n      <td>ind</td>\n      <td>0.089751</td>\n      <td>0.05</td>\n      <td>0.2</td>\n    </tr>\n    <tr>\n      <th>79</th>\n      <td>30</td>\n      <td>0.761000</td>\n      <td>ind</td>\n      <td>0.081773</td>\n      <td>0.05</td>\n      <td>0.2</td>\n    </tr>\n    <tr>\n      <th>80</th>\n      <td>24</td>\n      <td>0.672000</td>\n      <td>ind</td>\n      <td>0.090542</td>\n      <td>0.05</td>\n      <td>0.2</td>\n    </tr>\n    <tr>\n      <th>81</th>\n      <td>6</td>\n      <td>0.708000</td>\n      <td>ind</td>\n      <td>0.086995</td>\n      <td>0.05</td>\n      <td>0.2</td>\n    </tr>\n    <tr>\n      <th>82</th>\n      <td>2</td>\n      <td>0.725000</td>\n      <td>ind</td>\n      <td>0.085320</td>\n      <td>0.05</td>\n      <td>0.2</td>\n    </tr>\n    <tr>\n      <th>83</th>\n      <td>1</td>\n      <td>0.680027</td>\n      <td>ind</td>\n      <td>0.089751</td>\n      <td>0.05</td>\n      <td>0.2</td>\n    </tr>\n    <tr>\n      <th>84</th>\n      <td>20</td>\n      <td>0.599000</td>\n      <td>ind</td>\n      <td>0.097734</td>\n      <td>0.05</td>\n      <td>0.2</td>\n    </tr>\n    <tr>\n      <th>85</th>\n      <td>29</td>\n      <td>0.682000</td>\n      <td>ind</td>\n      <td>0.089557</td>\n      <td>0.05</td>\n      <td>0.2</td>\n    </tr>\n    <tr>\n      <th>86</th>\n      <td>32</td>\n      <td>0.779000</td>\n      <td>ind</td>\n      <td>0.080000</td>\n      <td>0.05</td>\n      <td>0.2</td>\n    </tr>\n    <tr>\n      <th>87</th>\n      <td>31</td>\n      <td>0.750000</td>\n      <td>ind</td>\n      <td>0.082857</td>\n      <td>0.05</td>\n      <td>0.2</td>\n    </tr>\n    <tr>\n      <th>88</th>\n      <td>23</td>\n      <td>0.606000</td>\n      <td>ind</td>\n      <td>0.097044</td>\n      <td>0.05</td>\n      <td>0.2</td>\n    </tr>\n    <tr>\n      <th>89</th>\n      <td>27</td>\n      <td>0.696000</td>\n      <td>ind</td>\n      <td>0.088177</td>\n      <td>0.05</td>\n      <td>0.2</td>\n    </tr>\n    <tr>\n      <th>90</th>\n      <td>14</td>\n      <td>0.696000</td>\n      <td>ind</td>\n      <td>0.088177</td>\n      <td>0.05</td>\n      <td>0.2</td>\n    </tr>\n    <tr>\n      <th>91</th>\n      <td>17</td>\n      <td>0.656000</td>\n      <td>ind</td>\n      <td>0.092118</td>\n      <td>0.05</td>\n      <td>0.2</td>\n    </tr>\n    <tr>\n      <th>92</th>\n      <td>15</td>\n      <td>0.705000</td>\n      <td>ind</td>\n      <td>0.087291</td>\n      <td>0.05</td>\n      <td>0.2</td>\n    </tr>\n    <tr>\n      <th>93</th>\n      <td>13</td>\n      <td>0.679000</td>\n      <td>ind</td>\n      <td>0.089852</td>\n      <td>0.05</td>\n      <td>0.2</td>\n    </tr>\n    <tr>\n      <th>94</th>\n      <td>7</td>\n      <td>0.680027</td>\n      <td>ind</td>\n      <td>0.089751</td>\n      <td>0.05</td>\n      <td>0.2</td>\n    </tr>\n    <tr>\n      <th>95</th>\n      <td>21</td>\n      <td>0.680027</td>\n      <td>ind</td>\n      <td>0.089751</td>\n      <td>0.05</td>\n      <td>0.2</td>\n    </tr>\n    <tr>\n      <th>96</th>\n      <td>34</td>\n      <td>0.738000</td>\n      <td>ind</td>\n      <td>0.084039</td>\n      <td>0.05</td>\n      <td>0.2</td>\n    </tr>\n    <tr>\n      <th>97</th>\n      <td>3</td>\n      <td>0.723000</td>\n      <td>ind</td>\n      <td>0.085517</td>\n      <td>0.05</td>\n      <td>0.2</td>\n    </tr>\n    <tr>\n      <th>98</th>\n      <td>8</td>\n      <td>0.629000</td>\n      <td>ind</td>\n      <td>0.094778</td>\n      <td>0.05</td>\n      <td>0.2</td>\n    </tr>\n    <tr>\n      <th>99</th>\n      <td>11</td>\n      <td>0.716000</td>\n      <td>ind</td>\n      <td>0.086207</td>\n      <td>0.05</td>\n      <td>0.2</td>\n    </tr>\n    <tr>\n      <th>100</th>\n      <td>33</td>\n      <td>0.708000</td>\n      <td>ind</td>\n      <td>0.086995</td>\n      <td>0.05</td>\n      <td>0.2</td>\n    </tr>\n    <tr>\n      <th>101</th>\n      <td>16</td>\n      <td>0.658000</td>\n      <td>ind</td>\n      <td>0.091921</td>\n      <td>0.05</td>\n      <td>0.2</td>\n    </tr>\n    <tr>\n      <th>102</th>\n      <td>9</td>\n      <td>0.596000</td>\n      <td>ind</td>\n      <td>0.098030</td>\n      <td>0.05</td>\n      <td>0.2</td>\n    </tr>\n    <tr>\n      <th>103</th>\n      <td>5</td>\n      <td>0.680027</td>\n      <td>ind</td>\n      <td>0.089751</td>\n      <td>0.05</td>\n      <td>0.2</td>\n    </tr>\n    <tr>\n      <th>104</th>\n      <td>19</td>\n      <td>0.641000</td>\n      <td>ind</td>\n      <td>0.093596</td>\n      <td>0.05</td>\n      <td>0.2</td>\n    </tr>\n  </tbody>\n</table>\n</div>"
     },
     "metadata": {},
     "execution_count": 37
    }
   ],
   "source": [
    "financing"
   ]
  },
  {
   "cell_type": "code",
   "execution_count": 43,
   "metadata": {},
   "outputs": [
    {
     "output_type": "error",
     "ename": "FileNotFoundError",
     "evalue": "[Errno 2] No such file or directory: 'india_base/load_growth_projections.csv'",
     "traceback": [
      "\u001b[0;31m---------------------------------------------------------------------------\u001b[0m",
      "\u001b[0;31mFileNotFoundError\u001b[0m                         Traceback (most recent call last)",
      "\u001b[0;32m<ipython-input-43-b3d2839397e3>\u001b[0m in \u001b[0;36m<module>\u001b[0;34m\u001b[0m\n\u001b[1;32m     57\u001b[0m \u001b[0mload_growth\u001b[0m\u001b[0;34m[\u001b[0m\u001b[0;34m'sector_abbr'\u001b[0m\u001b[0;34m]\u001b[0m \u001b[0;34m=\u001b[0m \u001b[0mload_growth\u001b[0m\u001b[0;34m[\u001b[0m\u001b[0;34m'sector_abbr'\u001b[0m\u001b[0;34m]\u001b[0m\u001b[0;34m.\u001b[0m\u001b[0mmap\u001b[0m\u001b[0;34m(\u001b[0m\u001b[0;34m{\u001b[0m\u001b[0;34m'residential'\u001b[0m\u001b[0;34m:\u001b[0m\u001b[0;34m'res'\u001b[0m\u001b[0;34m,\u001b[0m\u001b[0;34m'commercial'\u001b[0m\u001b[0;34m:\u001b[0m\u001b[0;34m'com'\u001b[0m\u001b[0;34m,\u001b[0m \u001b[0;34m'industrial'\u001b[0m\u001b[0;34m:\u001b[0m\u001b[0;34m'ind'\u001b[0m\u001b[0;34m,\u001b[0m \u001b[0;34m'agricutlure'\u001b[0m\u001b[0;34m:\u001b[0m\u001b[0;34m'agg'\u001b[0m\u001b[0;34m}\u001b[0m\u001b[0;34m)\u001b[0m\u001b[0;34m\u001b[0m\u001b[0;34m\u001b[0m\u001b[0m\n\u001b[1;32m     58\u001b[0m \u001b[0;34m\u001b[0m\u001b[0m\n\u001b[0;32m---> 59\u001b[0;31m \u001b[0mload_growth\u001b[0m\u001b[0;34m.\u001b[0m\u001b[0mto_csv\u001b[0m\u001b[0;34m(\u001b[0m\u001b[0mos\u001b[0m\u001b[0;34m.\u001b[0m\u001b[0mpath\u001b[0m\u001b[0;34m.\u001b[0m\u001b[0mjoin\u001b[0m\u001b[0;34m(\u001b[0m\u001b[0;34m'india_base'\u001b[0m\u001b[0;34m,\u001b[0m\u001b[0;34m'load_growth_projections.csv'\u001b[0m\u001b[0;34m)\u001b[0m\u001b[0;34m,\u001b[0m \u001b[0mindex\u001b[0m\u001b[0;34m=\u001b[0m\u001b[0;32mFalse\u001b[0m\u001b[0;34m)\u001b[0m\u001b[0;34m\u001b[0m\u001b[0;34m\u001b[0m\u001b[0m\n\u001b[0m",
      "\u001b[0;32m~/anaconda2/envs/dg3n/lib/python3.8/site-packages/pandas/core/generic.py\u001b[0m in \u001b[0;36mto_csv\u001b[0;34m(self, path_or_buf, sep, na_rep, float_format, columns, header, index, index_label, mode, encoding, compression, quoting, quotechar, line_terminator, chunksize, date_format, doublequote, escapechar, decimal)\u001b[0m\n\u001b[1;32m   3202\u001b[0m             \u001b[0mdecimal\u001b[0m\u001b[0;34m=\u001b[0m\u001b[0mdecimal\u001b[0m\u001b[0;34m,\u001b[0m\u001b[0;34m\u001b[0m\u001b[0;34m\u001b[0m\u001b[0m\n\u001b[1;32m   3203\u001b[0m         )\n\u001b[0;32m-> 3204\u001b[0;31m         \u001b[0mformatter\u001b[0m\u001b[0;34m.\u001b[0m\u001b[0msave\u001b[0m\u001b[0;34m(\u001b[0m\u001b[0;34m)\u001b[0m\u001b[0;34m\u001b[0m\u001b[0;34m\u001b[0m\u001b[0m\n\u001b[0m\u001b[1;32m   3205\u001b[0m \u001b[0;34m\u001b[0m\u001b[0m\n\u001b[1;32m   3206\u001b[0m         \u001b[0;32mif\u001b[0m \u001b[0mpath_or_buf\u001b[0m \u001b[0;32mis\u001b[0m \u001b[0;32mNone\u001b[0m\u001b[0;34m:\u001b[0m\u001b[0;34m\u001b[0m\u001b[0;34m\u001b[0m\u001b[0m\n",
      "\u001b[0;32m~/anaconda2/envs/dg3n/lib/python3.8/site-packages/pandas/io/formats/csvs.py\u001b[0m in \u001b[0;36msave\u001b[0;34m(self)\u001b[0m\n\u001b[1;32m    182\u001b[0m             \u001b[0mclose\u001b[0m \u001b[0;34m=\u001b[0m \u001b[0;32mFalse\u001b[0m\u001b[0;34m\u001b[0m\u001b[0;34m\u001b[0m\u001b[0m\n\u001b[1;32m    183\u001b[0m         \u001b[0;32melse\u001b[0m\u001b[0;34m:\u001b[0m\u001b[0;34m\u001b[0m\u001b[0;34m\u001b[0m\u001b[0m\n\u001b[0;32m--> 184\u001b[0;31m             f, handles = get_handle(\n\u001b[0m\u001b[1;32m    185\u001b[0m                 \u001b[0mself\u001b[0m\u001b[0;34m.\u001b[0m\u001b[0mpath_or_buf\u001b[0m\u001b[0;34m,\u001b[0m\u001b[0;34m\u001b[0m\u001b[0;34m\u001b[0m\u001b[0m\n\u001b[1;32m    186\u001b[0m                 \u001b[0mself\u001b[0m\u001b[0;34m.\u001b[0m\u001b[0mmode\u001b[0m\u001b[0;34m,\u001b[0m\u001b[0;34m\u001b[0m\u001b[0;34m\u001b[0m\u001b[0m\n",
      "\u001b[0;32m~/anaconda2/envs/dg3n/lib/python3.8/site-packages/pandas/io/common.py\u001b[0m in \u001b[0;36mget_handle\u001b[0;34m(path_or_buf, mode, encoding, compression, memory_map, is_text)\u001b[0m\n\u001b[1;32m    426\u001b[0m         \u001b[0;32mif\u001b[0m \u001b[0mencoding\u001b[0m\u001b[0;34m:\u001b[0m\u001b[0;34m\u001b[0m\u001b[0;34m\u001b[0m\u001b[0m\n\u001b[1;32m    427\u001b[0m             \u001b[0;31m# Encoding\u001b[0m\u001b[0;34m\u001b[0m\u001b[0;34m\u001b[0m\u001b[0;34m\u001b[0m\u001b[0m\n\u001b[0;32m--> 428\u001b[0;31m             \u001b[0mf\u001b[0m \u001b[0;34m=\u001b[0m \u001b[0mopen\u001b[0m\u001b[0;34m(\u001b[0m\u001b[0mpath_or_buf\u001b[0m\u001b[0;34m,\u001b[0m \u001b[0mmode\u001b[0m\u001b[0;34m,\u001b[0m \u001b[0mencoding\u001b[0m\u001b[0;34m=\u001b[0m\u001b[0mencoding\u001b[0m\u001b[0;34m,\u001b[0m \u001b[0mnewline\u001b[0m\u001b[0;34m=\u001b[0m\u001b[0;34m\"\"\u001b[0m\u001b[0;34m)\u001b[0m\u001b[0;34m\u001b[0m\u001b[0;34m\u001b[0m\u001b[0m\n\u001b[0m\u001b[1;32m    429\u001b[0m         \u001b[0;32melif\u001b[0m \u001b[0mis_text\u001b[0m\u001b[0;34m:\u001b[0m\u001b[0;34m\u001b[0m\u001b[0;34m\u001b[0m\u001b[0m\n\u001b[1;32m    430\u001b[0m             \u001b[0;31m# No explicit encoding\u001b[0m\u001b[0;34m\u001b[0m\u001b[0;34m\u001b[0m\u001b[0;34m\u001b[0m\u001b[0m\n",
      "\u001b[0;31mFileNotFoundError\u001b[0m: [Errno 2] No such file or directory: 'india_base/load_growth_projections.csv'"
     ]
    }
   ],
   "source": [
    "    import numpy as np\n",
    "    import india.agent_config as config\n",
    "    import india.helper as helper\n",
    "\n",
    "    state_id_lookup = pd.read_csv(os.path.join('india','reference_data', 'india_census','state_id_lookup.csv'))\n",
    "    state_id_lookup = dict(zip(state_id_lookup['state_name'], state_id_lookup['state_id']))\n",
    "\n",
    "    reeds_load = pd.read_csv(os.path.join('india','reference_data','ReEDS_load.csv'), names=['state','hour','year','value'])\n",
    "\n",
    "    # --- Group by year ---\n",
    "    reeds_load = reeds_load.groupby(['state','year'], as_index=False)['value'].mean()\n",
    "\n",
    "    # --- Pivot Wide ---\n",
    "    reeds_load = pd.pivot_table(reeds_load, index='state', columns='year', values='value')\n",
    "\n",
    "    # --- Convert to pct diff ---\n",
    "    reeds_load = reeds_load.pct_change(axis=1)\n",
    "\n",
    "    # --- Add missing years ---\n",
    "    for y in range(2014,2018,1): # not in df\n",
    "        reeds_load[y] = np.nan\n",
    "\n",
    "    for y in range(2048,2051,1): # not in df\n",
    "        reeds_load[y] = np.nan\n",
    "        \n",
    "    reeds_load.sort_index(axis=1, inplace=True)\n",
    "\n",
    "    # --- Add Previous Years --\n",
    "    reeds_load = reeds_load.fillna(method='bfill', axis=1).fillna(method='ffill', axis=1)\n",
    "\n",
    "    long_dfs = []\n",
    "    # --- Calculate cumulative product ---\n",
    "    for scenario, multiplier in zip(['Low','Planning','High'],[config.LOW_LOAD_GROWTH, config.PLANNING_LOAD_GROWTH, config.HIGH_LOAD_GROWTH]):\n",
    "        reeds_load += 1\n",
    "        reeds_load *= multiplier\n",
    "        reeds_load = reeds_load.cumprod(axis=1)\n",
    "\n",
    "        # --- Convert back to long_df ---\n",
    "        load_growth = reeds_load.copy()\n",
    "        load_growth.reset_index(inplace=True)\n",
    "        load_growth = load_growth.melt(id_vars=['state'], var_name=['year'], value_name='new_load_growth')\n",
    "\n",
    "        for c in ['residential', 'commercial', 'industrial', 'agriculture']:\n",
    "            load_growth[c] = load_growth['new_load_growth'] #TODO: implement sector specific load growth\n",
    "        load_growth.drop('new_load_growth', axis='columns', inplace=True)\n",
    "\n",
    "        load_growth = load_growth.melt(id_vars=['state','year'], var_name='sector_abbr', value_name='load_multiplier')\n",
    "        load_growth['scenario'] = scenario\n",
    "        long_dfs.append(load_growth)\n",
    "\n",
    "    load_growth = pd.concat(long_dfs, axis='rows')\n",
    "\n",
    "    # --- map state_id ---\n",
    "    load_growth['state'] = load_growth['state'].apply(helper.sanitize_string)\n",
    "    load_growth['state_id'] = load_growth['state'].map(state_id_lookup)\n",
    "    load_growth.drop(['state'], axis='columns')\n",
    "    load_growth['sector_abbr'] = load_growth['sector_abbr'].map({'residential':'res','commercial':'com', 'industrial':'ind', 'agricutlure':'agg'})\n"
   ]
  },
  {
   "cell_type": "code",
   "execution_count": null,
   "metadata": {},
   "outputs": [],
   "source": []
  }
 ]
}
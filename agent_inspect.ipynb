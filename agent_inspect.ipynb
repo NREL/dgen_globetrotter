{
 "metadata": {
  "language_info": {
   "codemirror_mode": {
    "name": "ipython",
    "version": 3
   },
   "file_extension": ".py",
   "mimetype": "text/x-python",
   "name": "python",
   "nbconvert_exporter": "python",
   "pygments_lexer": "ipython3",
   "version": "3.8.5-final"
  },
  "orig_nbformat": 2,
  "kernelspec": {
   "name": "python38264bitdg3nconda98e8f2b53c594de780fc83c5a0779419",
   "display_name": "Python 3.8.2 64-bit ('dg3n': conda)"
  }
 },
 "nbformat": 4,
 "nbformat_minor": 2,
 "cells": [
  {
   "cell_type": "code",
   "execution_count": 8,
   "metadata": {},
   "outputs": [],
   "source": [
    "import pandas as pd\n",
    "df = pd.read_csv('runs/results_20200914_124022/india_base/agent_outputs.csv')"
   ]
  },
  {
   "cell_type": "code",
   "execution_count": 4,
   "metadata": {},
   "outputs": [
    {
     "output_type": "error",
     "ename": "ValueError",
     "evalue": "Could not interpret input 'payback_period'",
     "traceback": [
      "\u001b[0;31m---------------------------------------------------------------------------\u001b[0m",
      "\u001b[0;31mValueError\u001b[0m                                Traceback (most recent call last)",
      "\u001b[0;32m<ipython-input-4-7cbe7dabbccf>\u001b[0m in \u001b[0;36m<module>\u001b[0;34m\u001b[0m\n\u001b[1;32m      4\u001b[0m \u001b[0msector_mask\u001b[0m \u001b[0;34m=\u001b[0m \u001b[0;34m(\u001b[0m\u001b[0mdf\u001b[0m\u001b[0;34m[\u001b[0m\u001b[0;34m'sector_abbr'\u001b[0m\u001b[0;34m]\u001b[0m\u001b[0;34m.\u001b[0m\u001b[0misin\u001b[0m\u001b[0;34m(\u001b[0m\u001b[0;34m[\u001b[0m\u001b[0;34m'com'\u001b[0m\u001b[0;34m,\u001b[0m\u001b[0;34m'res'\u001b[0m\u001b[0;34m]\u001b[0m\u001b[0;34m)\u001b[0m\u001b[0;34m)\u001b[0m\u001b[0;34m\u001b[0m\u001b[0;34m\u001b[0m\u001b[0m\n\u001b[1;32m      5\u001b[0m \u001b[0mvdf\u001b[0m \u001b[0;34m=\u001b[0m \u001b[0mdf\u001b[0m\u001b[0;34m.\u001b[0m\u001b[0mloc\u001b[0m\u001b[0;34m[\u001b[0m\u001b[0myear_mask\u001b[0m \u001b[0;34m&\u001b[0m \u001b[0msector_mask\u001b[0m\u001b[0;34m]\u001b[0m\u001b[0;34m\u001b[0m\u001b[0;34m\u001b[0m\u001b[0m\n\u001b[0;32m----> 6\u001b[0;31m \u001b[0msns\u001b[0m\u001b[0;34m.\u001b[0m\u001b[0mviolinplot\u001b[0m\u001b[0;34m(\u001b[0m\u001b[0mdata\u001b[0m\u001b[0;34m=\u001b[0m\u001b[0mvdf\u001b[0m\u001b[0;34m,\u001b[0m \u001b[0mx\u001b[0m\u001b[0;34m=\u001b[0m\u001b[0;34m\"year\"\u001b[0m\u001b[0;34m,\u001b[0m \u001b[0my\u001b[0m\u001b[0;34m=\u001b[0m\u001b[0;34m\"payback_period\"\u001b[0m\u001b[0;34m,\u001b[0m \u001b[0mhue\u001b[0m\u001b[0;34m=\u001b[0m\u001b[0;34m\"sector_abbr\"\u001b[0m\u001b[0;34m,\u001b[0m \u001b[0msplit\u001b[0m\u001b[0;34m=\u001b[0m\u001b[0;32mTrue\u001b[0m\u001b[0;34m)\u001b[0m\u001b[0;34m\u001b[0m\u001b[0;34m\u001b[0m\u001b[0m\n\u001b[0m",
      "\u001b[0;32m~/anaconda2/envs/dg3n/lib/python3.8/site-packages/seaborn/categorical.py\u001b[0m in \u001b[0;36mviolinplot\u001b[0;34m(x, y, hue, data, order, hue_order, bw, cut, scale, scale_hue, gridsize, width, inner, split, dodge, orient, linewidth, color, palette, saturation, ax, **kwargs)\u001b[0m\n\u001b[1;32m   2382\u001b[0m                ax=None, **kwargs):\n\u001b[1;32m   2383\u001b[0m \u001b[0;34m\u001b[0m\u001b[0m\n\u001b[0;32m-> 2384\u001b[0;31m     plotter = _ViolinPlotter(x, y, hue, data, order, hue_order,\n\u001b[0m\u001b[1;32m   2385\u001b[0m                              \u001b[0mbw\u001b[0m\u001b[0;34m,\u001b[0m \u001b[0mcut\u001b[0m\u001b[0;34m,\u001b[0m \u001b[0mscale\u001b[0m\u001b[0;34m,\u001b[0m \u001b[0mscale_hue\u001b[0m\u001b[0;34m,\u001b[0m \u001b[0mgridsize\u001b[0m\u001b[0;34m,\u001b[0m\u001b[0;34m\u001b[0m\u001b[0;34m\u001b[0m\u001b[0m\n\u001b[1;32m   2386\u001b[0m                              \u001b[0mwidth\u001b[0m\u001b[0;34m,\u001b[0m \u001b[0minner\u001b[0m\u001b[0;34m,\u001b[0m \u001b[0msplit\u001b[0m\u001b[0;34m,\u001b[0m \u001b[0mdodge\u001b[0m\u001b[0;34m,\u001b[0m \u001b[0morient\u001b[0m\u001b[0;34m,\u001b[0m \u001b[0mlinewidth\u001b[0m\u001b[0;34m,\u001b[0m\u001b[0;34m\u001b[0m\u001b[0;34m\u001b[0m\u001b[0m\n",
      "\u001b[0;32m~/anaconda2/envs/dg3n/lib/python3.8/site-packages/seaborn/categorical.py\u001b[0m in \u001b[0;36m__init__\u001b[0;34m(self, x, y, hue, data, order, hue_order, bw, cut, scale, scale_hue, gridsize, width, inner, split, dodge, orient, linewidth, color, palette, saturation)\u001b[0m\n\u001b[1;32m    550\u001b[0m                  color, palette, saturation):\n\u001b[1;32m    551\u001b[0m \u001b[0;34m\u001b[0m\u001b[0m\n\u001b[0;32m--> 552\u001b[0;31m         \u001b[0mself\u001b[0m\u001b[0;34m.\u001b[0m\u001b[0mestablish_variables\u001b[0m\u001b[0;34m(\u001b[0m\u001b[0mx\u001b[0m\u001b[0;34m,\u001b[0m \u001b[0my\u001b[0m\u001b[0;34m,\u001b[0m \u001b[0mhue\u001b[0m\u001b[0;34m,\u001b[0m \u001b[0mdata\u001b[0m\u001b[0;34m,\u001b[0m \u001b[0morient\u001b[0m\u001b[0;34m,\u001b[0m \u001b[0morder\u001b[0m\u001b[0;34m,\u001b[0m \u001b[0mhue_order\u001b[0m\u001b[0;34m)\u001b[0m\u001b[0;34m\u001b[0m\u001b[0;34m\u001b[0m\u001b[0m\n\u001b[0m\u001b[1;32m    553\u001b[0m         \u001b[0mself\u001b[0m\u001b[0;34m.\u001b[0m\u001b[0mestablish_colors\u001b[0m\u001b[0;34m(\u001b[0m\u001b[0mcolor\u001b[0m\u001b[0;34m,\u001b[0m \u001b[0mpalette\u001b[0m\u001b[0;34m,\u001b[0m \u001b[0msaturation\u001b[0m\u001b[0;34m)\u001b[0m\u001b[0;34m\u001b[0m\u001b[0;34m\u001b[0m\u001b[0m\n\u001b[1;32m    554\u001b[0m         \u001b[0mself\u001b[0m\u001b[0;34m.\u001b[0m\u001b[0mestimate_densities\u001b[0m\u001b[0;34m(\u001b[0m\u001b[0mbw\u001b[0m\u001b[0;34m,\u001b[0m \u001b[0mcut\u001b[0m\u001b[0;34m,\u001b[0m \u001b[0mscale\u001b[0m\u001b[0;34m,\u001b[0m \u001b[0mscale_hue\u001b[0m\u001b[0;34m,\u001b[0m \u001b[0mgridsize\u001b[0m\u001b[0;34m)\u001b[0m\u001b[0;34m\u001b[0m\u001b[0;34m\u001b[0m\u001b[0m\n",
      "\u001b[0;32m~/anaconda2/envs/dg3n/lib/python3.8/site-packages/seaborn/categorical.py\u001b[0m in \u001b[0;36mestablish_variables\u001b[0;34m(self, x, y, hue, data, orient, order, hue_order, units)\u001b[0m\n\u001b[1;32m    150\u001b[0m                 \u001b[0;32mif\u001b[0m \u001b[0misinstance\u001b[0m\u001b[0;34m(\u001b[0m\u001b[0mvar\u001b[0m\u001b[0;34m,\u001b[0m \u001b[0mstr\u001b[0m\u001b[0;34m)\u001b[0m\u001b[0;34m:\u001b[0m\u001b[0;34m\u001b[0m\u001b[0;34m\u001b[0m\u001b[0m\n\u001b[1;32m    151\u001b[0m                     \u001b[0merr\u001b[0m \u001b[0;34m=\u001b[0m \u001b[0;34m\"Could not interpret input '{}'\"\u001b[0m\u001b[0;34m.\u001b[0m\u001b[0mformat\u001b[0m\u001b[0;34m(\u001b[0m\u001b[0mvar\u001b[0m\u001b[0;34m)\u001b[0m\u001b[0;34m\u001b[0m\u001b[0;34m\u001b[0m\u001b[0m\n\u001b[0;32m--> 152\u001b[0;31m                     \u001b[0;32mraise\u001b[0m \u001b[0mValueError\u001b[0m\u001b[0;34m(\u001b[0m\u001b[0merr\u001b[0m\u001b[0;34m)\u001b[0m\u001b[0;34m\u001b[0m\u001b[0;34m\u001b[0m\u001b[0m\n\u001b[0m\u001b[1;32m    153\u001b[0m \u001b[0;34m\u001b[0m\u001b[0m\n\u001b[1;32m    154\u001b[0m             \u001b[0;31m# Figure out the plotting orientation\u001b[0m\u001b[0;34m\u001b[0m\u001b[0;34m\u001b[0m\u001b[0;34m\u001b[0m\u001b[0m\n",
      "\u001b[0;31mValueError\u001b[0m: Could not interpret input 'payback_period'"
     ]
    }
   ],
   "source": [
    "import seaborn as sns\n",
    "\n",
    "year_mask = (df['year'].isin([2020,2030,2040,2050]))\n",
    "sector_mask = (df['sector_abbr'].isin(['com','res']))\n",
    "vdf = df.loc[year_mask & sector_mask]\n",
    "sns.violinplot(data=vdf, x=\"year\", y=\"payback_period\", hue=\"sector_abbr\", split=True)\n"
   ]
  },
  {
   "cell_type": "code",
   "execution_count": 106,
   "metadata": {},
   "outputs": [
    {
     "output_type": "execute_result",
     "data": {
      "text/plain": "     state_id  pv_capacity_mw  pv_system_count\n9        28.0     1109.628768        11.096288\n10       28.0     1520.039409         7.600197\n11       28.0      456.011823        45.601182\n21       12.0        1.581681         0.015817\n22       12.0        2.705711         0.013529\n..        ...             ...              ...\n406       NaN        1.853750         0.009269\n407       NaN        7.415000         0.741500\n417      34.0        0.000000         0.000000\n418      34.0        0.000000         0.000000\n419      34.0        0.000000         0.000000\n\n[105 rows x 3 columns]",
      "text/html": "<div>\n<style scoped>\n    .dataframe tbody tr th:only-of-type {\n        vertical-align: middle;\n    }\n\n    .dataframe tbody tr th {\n        vertical-align: top;\n    }\n\n    .dataframe thead th {\n        text-align: right;\n    }\n</style>\n<table border=\"1\" class=\"dataframe\">\n  <thead>\n    <tr style=\"text-align: right;\">\n      <th></th>\n      <th>state_id</th>\n      <th>pv_capacity_mw</th>\n      <th>pv_system_count</th>\n    </tr>\n  </thead>\n  <tbody>\n    <tr>\n      <th>9</th>\n      <td>28.0</td>\n      <td>1109.628768</td>\n      <td>11.096288</td>\n    </tr>\n    <tr>\n      <th>10</th>\n      <td>28.0</td>\n      <td>1520.039409</td>\n      <td>7.600197</td>\n    </tr>\n    <tr>\n      <th>11</th>\n      <td>28.0</td>\n      <td>456.011823</td>\n      <td>45.601182</td>\n    </tr>\n    <tr>\n      <th>21</th>\n      <td>12.0</td>\n      <td>1.581681</td>\n      <td>0.015817</td>\n    </tr>\n    <tr>\n      <th>22</th>\n      <td>12.0</td>\n      <td>2.705711</td>\n      <td>0.013529</td>\n    </tr>\n    <tr>\n      <th>...</th>\n      <td>...</td>\n      <td>...</td>\n      <td>...</td>\n    </tr>\n    <tr>\n      <th>406</th>\n      <td>NaN</td>\n      <td>1.853750</td>\n      <td>0.009269</td>\n    </tr>\n    <tr>\n      <th>407</th>\n      <td>NaN</td>\n      <td>7.415000</td>\n      <td>0.741500</td>\n    </tr>\n    <tr>\n      <th>417</th>\n      <td>34.0</td>\n      <td>0.000000</td>\n      <td>0.000000</td>\n    </tr>\n    <tr>\n      <th>418</th>\n      <td>34.0</td>\n      <td>0.000000</td>\n      <td>0.000000</td>\n    </tr>\n    <tr>\n      <th>419</th>\n      <td>34.0</td>\n      <td>0.000000</td>\n      <td>0.000000</td>\n    </tr>\n  </tbody>\n</table>\n<p>105 rows × 3 columns</p>\n</div>"
     },
     "metadata": {},
     "execution_count": 106
    }
   ],
   "source": [
    "import helper \n",
    "\n",
    "# --- Load MNRE data with differentiation by state_name and make long ---\n",
    "by_state = pd.read_csv(os.path.join('reference_data','Cumulative Installed Capacity by State.csv'))\n",
    "by_state = by_state.melt(id_vars=['State'])\n",
    "by_state.columns = ['state_name', 'year','mnre_mw']\n",
    "\n",
    "# --- Calculate percent by state_name in MNRE by year---\n",
    "g = by_state.groupby(['state_name','year'])['mnre_mw'].sum()\n",
    "by_state_pct = g / g.groupby('year').transform('sum')\n",
    "by_state_pct.name = 'pct_state'\n",
    "by_state_pct = by_state_pct.reset_index()\n",
    "by_state = by_state.merge(by_state_pct, on=['year','state_name'])\n",
    "\n",
    "# --- Read in 2019 adoption by sector and state, excluding some states ---\n",
    "res = pd.read_excel(os.path.join('reference_data','Residential and Commercial Installed Capacity by State.xlsx'), sheet_name=\"Residential\")\n",
    "com = pd.read_excel(os.path.join('reference_data','Residential and Commercial Installed Capacity by State.xlsx'), sheet_name=\"Commercial\")\n",
    "ind = pd.read_excel(os.path.join('reference_data','Residential and Commercial Installed Capacity by State.xlsx'), sheet_name=\"Industrial\")\n",
    "res['sector_abbr'] = 'res'\n",
    "com['sector_abbr'] = 'com'\n",
    "ind['sector_abbr'] = 'ind'\n",
    "by_sector = pd.concat([res, com, ind], axis='rows')\n",
    "by_sector.rename({'Unnamed: 0':'state_name', 2019:'sector_mw'}, axis='columns', inplace=True)\n",
    "by_sector = by_sector[['state_name', 'sector_mw', 'sector_abbr']]\n",
    "\n",
    "# --- Calcualte percent by state_name and sector ---\n",
    "g = by_sector.groupby(['state_name','sector_abbr'])['sector_mw'].sum()\n",
    "by_sector_pct = g / g.groupby(['state_name']).transform('sum')\n",
    "by_sector_pct.name = 'pct_sector'\n",
    "by_sector_pct = by_sector_pct.reset_index()\n",
    "\n",
    "# --- Fill in nans with mean by sector ---\n",
    "nan_mean_dict = {}\n",
    "nan_mean_dict['res'] = by_sector_pct.loc[by_sector_pct['sector_abbr'] == 'res', 'pct_sector'].mean()\n",
    "nan_mean_dict['com'] = by_sector_pct.loc[by_sector_pct['sector_abbr'] == 'com', 'pct_sector'].mean()\n",
    "nan_mean_dict['ind'] = by_sector_pct.loc[by_sector_pct['sector_abbr'] == 'ind', 'pct_sector'].mean()\n",
    "null_mask = (by_sector_pct['pct_sector'].isnull())\n",
    "by_sector_pct.loc[null_mask, 'pct_sector'] = by_sector_pct.loc[null_mask, 'sector_abbr'].map(nan_mean_dict) \n",
    "\n",
    "# --- Merge state and sector tables together, and compute compound adoption ---\n",
    "merged = pd.merge(by_state, by_sector_pct, on=['state_name'], how='outer')\n",
    "merged.dropna(inplace=True)\n",
    "merged['pv_capacity_mw'] = merged['pct_sector'] * merged['mnre_mw']\n",
    "\n",
    "# --- Calculate number of adopters from cumulative capacity ---\n",
    "system_size_dict = {'res':10, 'com':100, 'ind':200}\n",
    "merged['pv_system_count'] = merged['pv_capacity_mw'] / merged['sector_abbr'].map(system_size_dict)\n",
    "\n",
    "# --- Map on state_id ---\n",
    "merged['state_name'] = merged['state_name'].apply(helper.sanitize_string)\n",
    "merged['state_id'] = merged['state_name'].map(state_id_lookup)\n",
    "\n",
    "# --- Clean up and output ---\n",
    "merged = merged.loc[merged['year'] == merged['year'].max()]\n",
    "merged = merged[['state_id','pv_capacity_mw','pv_system_count']]\n",
    "merged.to_csv(os.path.join('india_base','pv_state_starting_capacities.csv'), index=False)"
   ]
  }
 ]
}
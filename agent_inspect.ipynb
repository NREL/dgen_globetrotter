{
 "metadata": {
  "language_info": {
   "codemirror_mode": {
    "name": "ipython",
    "version": 3
   },
   "file_extension": ".py",
   "mimetype": "text/x-python",
   "name": "python",
   "nbconvert_exporter": "python",
   "pygments_lexer": "ipython3",
   "version": "3.8.5-final"
  },
  "orig_nbformat": 2,
  "kernelspec": {
   "name": "python38264bitdg3nconda98e8f2b53c594de780fc83c5a0779419",
   "display_name": "Python 3.8.2 64-bit ('dg3n': conda)"
  }
 },
 "nbformat": 4,
 "nbformat_minor": 2,
 "cells": [
  {
   "cell_type": "code",
   "execution_count": 1,
   "metadata": {},
   "outputs": [],
   "source": [
    "import pandas as pd\n",
    "import os\n",
    "import json\n",
    "df = pd.read_csv('runs/results_20200914_124022/india_base/agent_outputs.csv')"
   ]
  },
  {
   "cell_type": "code",
   "execution_count": 2,
   "metadata": {},
   "outputs": [
    {
     "output_type": "execute_result",
     "data": {
      "text/plain": "array(['gujarat', 'rajasthan', 'goa', 'sikkim', 'bihar', 'haryana',\n       'tamil_nadu', 'chhattisgarh', 'meghalaya', 'andhra_pradesh',\n       'puducherry', 'jharkhand', 'kerala', 'arunachal_pradesh',\n       'himachal_pradesh', 'karnataka', 'maharashtra', 'west_bengal',\n       'madhya_pradesh', 'assam', 'punjab', 'nagaland', 'mizoram',\n       'tripura', 'uttar_pradesh'], dtype=object)"
     },
     "metadata": {},
     "execution_count": 2
    }
   ],
   "source": [
    "state_names = df['state_name'].unique()\n",
    "state_names"
   ]
  },
  {
   "cell_type": "code",
   "execution_count": 6,
   "metadata": {},
   "outputs": [
    {
     "output_type": "error",
     "ename": "IndexError",
     "evalue": "list assignment index out of range",
     "traceback": [
      "\u001b[0;31m---------------------------------------------------------------------------\u001b[0m",
      "\u001b[0;31mIndexError\u001b[0m                                Traceback (most recent call last)",
      "\u001b[0;32m<ipython-input-6-c75a22c7553d>\u001b[0m in \u001b[0;36m<module>\u001b[0;34m\u001b[0m\n\u001b[1;32m     38\u001b[0m     \u001b[0mtariff\u001b[0m\u001b[0;34m[\u001b[0m\u001b[0;34m'e_levels'\u001b[0m\u001b[0;34m]\u001b[0m \u001b[0;34m=\u001b[0m \u001b[0mt\u001b[0m\u001b[0;34m[\u001b[0m\u001b[0;34m'min_kwh'\u001b[0m\u001b[0;34m]\u001b[0m\u001b[0;34m.\u001b[0m\u001b[0mtolist\u001b[0m\u001b[0;34m(\u001b[0m\u001b[0;34m)\u001b[0m\u001b[0;34m[\u001b[0m\u001b[0;36m1\u001b[0m\u001b[0;34m:\u001b[0m\u001b[0;34m]\u001b[0m\u001b[0;34m\u001b[0m\u001b[0;34m\u001b[0m\u001b[0m\n\u001b[1;32m     39\u001b[0m     \u001b[0mtariff\u001b[0m\u001b[0;34m[\u001b[0m\u001b[0;34m'e_prices'\u001b[0m\u001b[0;34m]\u001b[0m \u001b[0;34m=\u001b[0m \u001b[0mt\u001b[0m\u001b[0;34m[\u001b[0m\u001b[0;34m'rate_rs_per_kwh'\u001b[0m\u001b[0;34m]\u001b[0m\u001b[0;34m.\u001b[0m\u001b[0mtolist\u001b[0m\u001b[0;34m(\u001b[0m\u001b[0;34m)\u001b[0m\u001b[0;34m\u001b[0m\u001b[0;34m\u001b[0m\u001b[0m\n\u001b[0;32m---> 40\u001b[0;31m     \u001b[0mtariff\u001b[0m\u001b[0;34m[\u001b[0m\u001b[0;34m'e_levels'\u001b[0m\u001b[0;34m]\u001b[0m\u001b[0;34m[\u001b[0m\u001b[0;34m-\u001b[0m\u001b[0;36m1\u001b[0m\u001b[0;34m]\u001b[0m \u001b[0;34m=\u001b[0m \u001b[0;36m1e10\u001b[0m\u001b[0;34m\u001b[0m\u001b[0;34m\u001b[0m\u001b[0m\n\u001b[0m\u001b[1;32m     41\u001b[0m \u001b[0;34m\u001b[0m\u001b[0m\n\u001b[1;32m     42\u001b[0m     \u001b[0;31m# --- jsonify tariff and write to df ---\u001b[0m\u001b[0;34m\u001b[0m\u001b[0;34m\u001b[0m\u001b[0;34m\u001b[0m\u001b[0m\n",
      "\u001b[0;31mIndexError\u001b[0m: list assignment index out of range"
     ]
    }
   ],
   "source": [
    "# --- initialize tariff df ---\n",
    "urdb_df = pd.DataFrame()\n",
    "\n",
    "# --- load sample tariff --- \n",
    "sample_tariff = pd.read_pickle(os.path.join('india','reference_data', 'sample_tariff_dict.pkl'))\n",
    "\n",
    "# --- Load tariff .csv ---\n",
    "tariffs = pd.read_csv(os.path.join('india','reference_data', 'clean_CSTEP_india_tariffs.csv'))\n",
    "tariffs['per_unit'] = tariffs['per_unit'].fillna('kwh')\n",
    "\n",
    "for rate_id in df['tariff_id'].unique():\n",
    "\n",
    "    sector, geo = rate_id.split('#')\n",
    "\n",
    "    # --- Lookup best tariff ---\n",
    "    sector_mask = (tariffs['sector_abbr'] == sector)\n",
    "    geo_mask = (tariffs['state'] == geo)\n",
    "    units_mask = (tariffs['per_unit'] == 'kwh') #ignore demand charge rates for now\n",
    "    t = tariffs[sector_mask & geo_mask & units_mask]\n",
    "\n",
    "    if sector in ['res', 'com']:\n",
    "        if 'LT' in t['tension'].tolist():\n",
    "            t = t.loc[t['tension'] == 'LT']\n",
    "        else:\n",
    "            t = t.loc[t['tension'] == 'HT']\n",
    "    elif sector in ['ind']:\n",
    "        if 'HT' in t['tension'].tolist():\n",
    "            t = t.loc[t['tension'] == 'HT']\n",
    "        else:\n",
    "            t = t.loc[t['tension'] == 'LT']\n",
    "\n",
    "    assert len(t) > 0, f\"No tariffs for {geo}, {sector}\"\n",
    "    \n",
    "    # --- sort tariff in order ---\n",
    "    t = t.sort_values('min_kwh', ascending=True)\n",
    "        \n",
    "    tariff = sample_tariff.copy()\n",
    "    if len(t) > 1:\n",
    "        tariff['e_levels'] = t['min_kwh'].tolist()[1:]\n",
    "        tariff['e_levels'][-1] = 1e10\n",
    "    else:\n",
    "        tariff['e_levels'] = [1e10]\n",
    "\n",
    "    tariff['e_prices'] = t['rate_rs_per_kwh'].tolist()\n",
    "\n",
    "    # --- jsonify tariff and write to df ---\n",
    "    tariff = json.dumps(tariff)\n",
    "    tariff_row = pd.DataFrame({'tariff_id':[rate_id], 'rate_json':[tariff]})\n",
    "    urdb_df = urdb_df.append(tariff_row)\n",
    "\n",
    "# # --- Save the df to a json ---\n",
    "# urdb_df.reset_index(inplace=True, drop=True)\n",
    "# urdb_df.to_json(os.path.join('india_base','urdb3_rates.json'))"
   ]
  },
  {
   "cell_type": "code",
   "execution_count": 7,
   "metadata": {},
   "outputs": [
    {
     "output_type": "execute_result",
     "data": {
      "text/plain": "         state sector_abbr tension  min_kwh  max_kwh  rate_rs_per_kwh per_unit\n100  rajasthan         ind      HT      NaN      NaN              7.0      kwh",
      "text/html": "<div>\n<style scoped>\n    .dataframe tbody tr th:only-of-type {\n        vertical-align: middle;\n    }\n\n    .dataframe tbody tr th {\n        vertical-align: top;\n    }\n\n    .dataframe thead th {\n        text-align: right;\n    }\n</style>\n<table border=\"1\" class=\"dataframe\">\n  <thead>\n    <tr style=\"text-align: right;\">\n      <th></th>\n      <th>state</th>\n      <th>sector_abbr</th>\n      <th>tension</th>\n      <th>min_kwh</th>\n      <th>max_kwh</th>\n      <th>rate_rs_per_kwh</th>\n      <th>per_unit</th>\n    </tr>\n  </thead>\n  <tbody>\n    <tr>\n      <th>100</th>\n      <td>rajasthan</td>\n      <td>ind</td>\n      <td>HT</td>\n      <td>NaN</td>\n      <td>NaN</td>\n      <td>7.0</td>\n      <td>kwh</td>\n    </tr>\n  </tbody>\n</table>\n</div>"
     },
     "metadata": {},
     "execution_count": 7
    }
   ],
   "source": [
    "t"
   ]
  },
  {
   "cell_type": "code",
   "execution_count": 4,
   "metadata": {},
   "outputs": [
    {
     "output_type": "execute_result",
     "data": {
      "text/plain": "         state sector_abbr tension  min_kwh  max_kwh  rate_rs_per_kwh per_unit\n98   rajasthan         ind      LT      0.0    500.0             6.00      kwh\n99   rajasthan         ind      LT    500.0      NaN             6.45      kwh\n100  rajasthan         ind      HT      NaN      NaN             7.00      kwh",
      "text/html": "<div>\n<style scoped>\n    .dataframe tbody tr th:only-of-type {\n        vertical-align: middle;\n    }\n\n    .dataframe tbody tr th {\n        vertical-align: top;\n    }\n\n    .dataframe thead th {\n        text-align: right;\n    }\n</style>\n<table border=\"1\" class=\"dataframe\">\n  <thead>\n    <tr style=\"text-align: right;\">\n      <th></th>\n      <th>state</th>\n      <th>sector_abbr</th>\n      <th>tension</th>\n      <th>min_kwh</th>\n      <th>max_kwh</th>\n      <th>rate_rs_per_kwh</th>\n      <th>per_unit</th>\n    </tr>\n  </thead>\n  <tbody>\n    <tr>\n      <th>98</th>\n      <td>rajasthan</td>\n      <td>ind</td>\n      <td>LT</td>\n      <td>0.0</td>\n      <td>500.0</td>\n      <td>6.00</td>\n      <td>kwh</td>\n    </tr>\n    <tr>\n      <th>99</th>\n      <td>rajasthan</td>\n      <td>ind</td>\n      <td>LT</td>\n      <td>500.0</td>\n      <td>NaN</td>\n      <td>6.45</td>\n      <td>kwh</td>\n    </tr>\n    <tr>\n      <th>100</th>\n      <td>rajasthan</td>\n      <td>ind</td>\n      <td>HT</td>\n      <td>NaN</td>\n      <td>NaN</td>\n      <td>7.00</td>\n      <td>kwh</td>\n    </tr>\n  </tbody>\n</table>\n</div>"
     },
     "metadata": {},
     "execution_count": 4
    }
   ],
   "source": [
    "tariffs.loc[geo_mask & sector_mask]"
   ]
  },
  {
   "cell_type": "code",
   "execution_count": 5,
   "metadata": {},
   "outputs": [
    {
     "output_type": "execute_result",
     "data": {
      "text/plain": "                       state sector_abbr tension  min_kwh  max_kwh  \\\n0              jammu_kashmir         res      LT      0.0    100.0   \n1              jammu_kashmir         res      LT    100.0    200.0   \n2              jammu_kashmir         res      LT    200.0    400.0   \n3              jammu_kashmir         res      HT      NaN      NaN   \n4              jammu_kashmir         com      LT      0.0    100.0   \n..                       ...         ...     ...      ...      ...   \n420  andaman_nicobar_islands         com      LT    500.0      NaN   \n421  andaman_nicobar_islands         com      HT      0.0      NaN   \n422  andaman_nicobar_islands         ind      LT      0.0    500.0   \n423  andaman_nicobar_islands         ind      LT    500.0      NaN   \n424  andaman_nicobar_islands         ind      HT      0.0      NaN   \n\n     rate_rs_per_kwh per_unit  \n0               1.69      kwh  \n1               2.29      kwh  \n2               3.30      kwh  \n3               5.01      kwh  \n4               2.81      kwh  \n..               ...      ...  \n420            12.00      kwh  \n421            12.50      kwh  \n422             6.00      kwh  \n423             8.00      kwh  \n424            12.50      kwh  \n\n[425 rows x 7 columns]",
      "text/html": "<div>\n<style scoped>\n    .dataframe tbody tr th:only-of-type {\n        vertical-align: middle;\n    }\n\n    .dataframe tbody tr th {\n        vertical-align: top;\n    }\n\n    .dataframe thead th {\n        text-align: right;\n    }\n</style>\n<table border=\"1\" class=\"dataframe\">\n  <thead>\n    <tr style=\"text-align: right;\">\n      <th></th>\n      <th>state</th>\n      <th>sector_abbr</th>\n      <th>tension</th>\n      <th>min_kwh</th>\n      <th>max_kwh</th>\n      <th>rate_rs_per_kwh</th>\n      <th>per_unit</th>\n    </tr>\n  </thead>\n  <tbody>\n    <tr>\n      <th>0</th>\n      <td>jammu_kashmir</td>\n      <td>res</td>\n      <td>LT</td>\n      <td>0.0</td>\n      <td>100.0</td>\n      <td>1.69</td>\n      <td>kwh</td>\n    </tr>\n    <tr>\n      <th>1</th>\n      <td>jammu_kashmir</td>\n      <td>res</td>\n      <td>LT</td>\n      <td>100.0</td>\n      <td>200.0</td>\n      <td>2.29</td>\n      <td>kwh</td>\n    </tr>\n    <tr>\n      <th>2</th>\n      <td>jammu_kashmir</td>\n      <td>res</td>\n      <td>LT</td>\n      <td>200.0</td>\n      <td>400.0</td>\n      <td>3.30</td>\n      <td>kwh</td>\n    </tr>\n    <tr>\n      <th>3</th>\n      <td>jammu_kashmir</td>\n      <td>res</td>\n      <td>HT</td>\n      <td>NaN</td>\n      <td>NaN</td>\n      <td>5.01</td>\n      <td>kwh</td>\n    </tr>\n    <tr>\n      <th>4</th>\n      <td>jammu_kashmir</td>\n      <td>com</td>\n      <td>LT</td>\n      <td>0.0</td>\n      <td>100.0</td>\n      <td>2.81</td>\n      <td>kwh</td>\n    </tr>\n    <tr>\n      <th>...</th>\n      <td>...</td>\n      <td>...</td>\n      <td>...</td>\n      <td>...</td>\n      <td>...</td>\n      <td>...</td>\n      <td>...</td>\n    </tr>\n    <tr>\n      <th>420</th>\n      <td>andaman_nicobar_islands</td>\n      <td>com</td>\n      <td>LT</td>\n      <td>500.0</td>\n      <td>NaN</td>\n      <td>12.00</td>\n      <td>kwh</td>\n    </tr>\n    <tr>\n      <th>421</th>\n      <td>andaman_nicobar_islands</td>\n      <td>com</td>\n      <td>HT</td>\n      <td>0.0</td>\n      <td>NaN</td>\n      <td>12.50</td>\n      <td>kwh</td>\n    </tr>\n    <tr>\n      <th>422</th>\n      <td>andaman_nicobar_islands</td>\n      <td>ind</td>\n      <td>LT</td>\n      <td>0.0</td>\n      <td>500.0</td>\n      <td>6.00</td>\n      <td>kwh</td>\n    </tr>\n    <tr>\n      <th>423</th>\n      <td>andaman_nicobar_islands</td>\n      <td>ind</td>\n      <td>LT</td>\n      <td>500.0</td>\n      <td>NaN</td>\n      <td>8.00</td>\n      <td>kwh</td>\n    </tr>\n    <tr>\n      <th>424</th>\n      <td>andaman_nicobar_islands</td>\n      <td>ind</td>\n      <td>HT</td>\n      <td>0.0</td>\n      <td>NaN</td>\n      <td>12.50</td>\n      <td>kwh</td>\n    </tr>\n  </tbody>\n</table>\n<p>425 rows × 7 columns</p>\n</div>"
     },
     "metadata": {},
     "execution_count": 5
    }
   ],
   "source": [
    "# --- Load tariff .csv ---\n",
    "\n",
    "\n",
    "tariffs"
   ]
  },
  {
   "cell_type": "code",
   "execution_count": null,
   "metadata": {},
   "outputs": [],
   "source": []
  }
 ]
}
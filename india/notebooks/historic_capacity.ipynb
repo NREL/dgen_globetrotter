{
 "metadata": {
  "language_info": {
   "codemirror_mode": {
    "name": "ipython",
    "version": 3
   },
   "file_extension": ".py",
   "mimetype": "text/x-python",
   "name": "python",
   "nbconvert_exporter": "python",
   "pygments_lexer": "ipython3",
   "version": "3.7.7-final"
  },
  "orig_nbformat": 2,
  "kernelspec": {
   "name": "python3",
   "display_name": "Python 3"
  }
 },
 "nbformat": 4,
 "nbformat_minor": 2,
 "cells": [
  {
   "cell_type": "code",
   "execution_count": 1,
   "metadata": {},
   "outputs": [],
   "source": [
    "import pandas as pd\n",
    "import os\n",
    "\n",
    "import helper"
   ]
  },
  {
   "cell_type": "code",
   "execution_count": 2,
   "metadata": {},
   "outputs": [],
   "source": [
    "agent_df = pd.read_csv(os.path.join('india_base','agent_core_attributes.csv'))\n",
    "\n",
    "# --- read lookups ---\n",
    "state_id_lookup = pd.read_csv(os.path.join('reference_data', 'india_census','state_id_lookup.csv'))\n",
    "state_id_lookup = dict(zip(state_id_lookup['state_name'], state_id_lookup['state_id']))"
   ]
  },
  {
   "cell_type": "code",
   "execution_count": 16,
   "metadata": {},
   "outputs": [
    {
     "output_type": "execute_result",
     "data": {
      "text/plain": [
       "{'jammu_kashmir': 1,\n",
       " 'himachal_pradesh': 2,\n",
       " 'punjab': 3,\n",
       " 'chandigarh': 4,\n",
       " 'uttarakhand': 5,\n",
       " 'haryana': 6,\n",
       " 'nct_of_delhi': 7,\n",
       " 'rajasthan': 8,\n",
       " 'uttar_pradesh': 9,\n",
       " 'bihar': 10,\n",
       " 'sikkim': 11,\n",
       " 'arunachal_pradesh': 12,\n",
       " 'nagaland': 13,\n",
       " 'manipur': 14,\n",
       " 'mizoram': 15,\n",
       " 'tripura': 16,\n",
       " 'meghalaya': 17,\n",
       " 'assam': 18,\n",
       " 'west_bengal': 19,\n",
       " 'jharkhand': 20,\n",
       " 'odisha': 21,\n",
       " 'chhattisgarh': 22,\n",
       " 'madhya_pradesh': 23,\n",
       " 'gujarat': 24,\n",
       " 'daman_diu': 25,\n",
       " 'dadra_nagar_haveli': 26,\n",
       " 'maharashtra': 27,\n",
       " 'andhra_pradesh': 28,\n",
       " 'karnataka': 29,\n",
       " 'goa': 30,\n",
       " 'lakshadweep': 31,\n",
       " 'kerala': 32,\n",
       " 'tamil_nadu': 33,\n",
       " 'puducherry': 34,\n",
       " 'andaman_nicobar_islands': 35}"
      ]
     },
     "metadata": {},
     "execution_count": 16
    }
   ],
   "source": [
    "state_id_lookup"
   ]
  },
  {
   "cell_type": "code",
   "execution_count": 3,
   "metadata": {},
   "outputs": [
    {
     "output_type": "execute_result",
     "data": {
      "text/plain": [
       "                  state_name  state_id sector_abbr  year  cum_mw\n",
       "0    andaman_nicobar_islands        35         com  2017     0.0\n",
       "1    andaman_nicobar_islands        35         com  2018     0.0\n",
       "2    andaman_nicobar_islands        35         com  2019     0.0\n",
       "3    andaman_nicobar_islands        35         ind  2017     0.0\n",
       "4    andaman_nicobar_islands        35         ind  2018     0.0\n",
       "..                       ...       ...         ...   ...     ...\n",
       "310              west_bengal        19         ind  2018    30.0\n",
       "311              west_bengal        19         ind  2019    48.0\n",
       "312              west_bengal        19         res  2017     7.0\n",
       "313              west_bengal        19         res  2018    24.0\n",
       "314              west_bengal        19         res  2019    40.0\n",
       "\n",
       "[315 rows x 5 columns]"
      ],
      "text/html": "<div>\n<style scoped>\n    .dataframe tbody tr th:only-of-type {\n        vertical-align: middle;\n    }\n\n    .dataframe tbody tr th {\n        vertical-align: top;\n    }\n\n    .dataframe thead th {\n        text-align: right;\n    }\n</style>\n<table border=\"1\" class=\"dataframe\">\n  <thead>\n    <tr style=\"text-align: right;\">\n      <th></th>\n      <th>state_name</th>\n      <th>state_id</th>\n      <th>sector_abbr</th>\n      <th>year</th>\n      <th>cum_mw</th>\n    </tr>\n  </thead>\n  <tbody>\n    <tr>\n      <th>0</th>\n      <td>andaman_nicobar_islands</td>\n      <td>35</td>\n      <td>com</td>\n      <td>2017</td>\n      <td>0.0</td>\n    </tr>\n    <tr>\n      <th>1</th>\n      <td>andaman_nicobar_islands</td>\n      <td>35</td>\n      <td>com</td>\n      <td>2018</td>\n      <td>0.0</td>\n    </tr>\n    <tr>\n      <th>2</th>\n      <td>andaman_nicobar_islands</td>\n      <td>35</td>\n      <td>com</td>\n      <td>2019</td>\n      <td>0.0</td>\n    </tr>\n    <tr>\n      <th>3</th>\n      <td>andaman_nicobar_islands</td>\n      <td>35</td>\n      <td>ind</td>\n      <td>2017</td>\n      <td>0.0</td>\n    </tr>\n    <tr>\n      <th>4</th>\n      <td>andaman_nicobar_islands</td>\n      <td>35</td>\n      <td>ind</td>\n      <td>2018</td>\n      <td>0.0</td>\n    </tr>\n    <tr>\n      <th>...</th>\n      <td>...</td>\n      <td>...</td>\n      <td>...</td>\n      <td>...</td>\n      <td>...</td>\n    </tr>\n    <tr>\n      <th>310</th>\n      <td>west_bengal</td>\n      <td>19</td>\n      <td>ind</td>\n      <td>2018</td>\n      <td>30.0</td>\n    </tr>\n    <tr>\n      <th>311</th>\n      <td>west_bengal</td>\n      <td>19</td>\n      <td>ind</td>\n      <td>2019</td>\n      <td>48.0</td>\n    </tr>\n    <tr>\n      <th>312</th>\n      <td>west_bengal</td>\n      <td>19</td>\n      <td>res</td>\n      <td>2017</td>\n      <td>7.0</td>\n    </tr>\n    <tr>\n      <th>313</th>\n      <td>west_bengal</td>\n      <td>19</td>\n      <td>res</td>\n      <td>2018</td>\n      <td>24.0</td>\n    </tr>\n    <tr>\n      <th>314</th>\n      <td>west_bengal</td>\n      <td>19</td>\n      <td>res</td>\n      <td>2019</td>\n      <td>40.0</td>\n    </tr>\n  </tbody>\n</table>\n<p>315 rows × 5 columns</p>\n</div>"
     },
     "metadata": {},
     "execution_count": 3
    }
   ],
   "source": [
    "# --- Read in 2019 adoption by sector and state, excluding some states ---\n",
    "res = pd.read_excel(os.path.join('reference_data','Residential and Commercial Installed Capacity by State.xlsx'), sheet_name=\"Residential\")\n",
    "com = pd.read_excel(os.path.join('reference_data','Residential and Commercial Installed Capacity by State.xlsx'), sheet_name=\"Commercial\")\n",
    "ind = pd.read_excel(os.path.join('reference_data','Residential and Commercial Installed Capacity by State.xlsx'), sheet_name=\"Industrial\")\n",
    "res['sector_abbr'] = 'res'\n",
    "com['sector_abbr'] = 'com'\n",
    "ind['sector_abbr'] = 'ind'\n",
    "by_sector = pd.concat([res, com, ind], axis='rows') \n",
    "# by_sector[[2018, 2019]] = by_sector[[2017, 2018, 2019]].diff(axis=1)[[2018, 2019]] # convert to annual installations\n",
    "by_sector = by_sector.fillna(0)\n",
    "by_sector.columns = ['state_name', 2017, 2018, 2019, 'sector_abbr']\n",
    "by_sector = by_sector.melt(id_vars=['state_name','sector_abbr'], var_name=['year'], value_name='cum_mw')\n",
    "# by_sector = by_sector.melt(id_vars=['state_name','sector_abbr'], var_name=['year'], value_name='annual_installed_mw')\n",
    "\n",
    "replace_dict = {'Delhi':'nct_of_delhi', 'Telangana':'andhra_pradesh'}\n",
    "by_sector['state_name'] = by_sector['state_name'].replace(replace_dict)\n",
    "\n",
    "# --- fuzzy string matching ---\n",
    "clean_list = list(agent_df['state_name'].unique())\n",
    "by_sector['state_name'] = by_sector['state_name'].apply(helper.sanitize_string)\n",
    "by_sector['state_name'] = helper.fuzzy_address_matcher(by_sector['state_name'], clean_list)\n",
    "by_sector['state_id'] = by_sector['state_name'].map(state_id_lookup)\n",
    "by_sector['state_name'].unique()\n",
    "\n",
    "# --- group by duplicates ---\n",
    "by_sector = by_sector.groupby(['state_name', 'state_id', 'sector_abbr','year'], as_index=False)['cum_mw'].sum()\n",
    "\n",
    "by_sector\n"
   ]
  },
  {
   "cell_type": "code",
   "execution_count": 4,
   "metadata": {},
   "outputs": [
    {
     "output_type": "execute_result",
     "data": {
      "text/plain": [
       "    year  ieefa_total_mw\n",
       "0   2011               0\n",
       "1   2012              38\n",
       "2   2013             117\n",
       "3   2014             286\n",
       "4   2015             623\n",
       "5   2016            1179\n",
       "6   2017            2177\n",
       "7   2018            3855\n",
       "8   2019            5855\n",
       "9   2020            8855\n",
       "10  2021           12855"
      ],
      "text/html": "<div>\n<style scoped>\n    .dataframe tbody tr th:only-of-type {\n        vertical-align: middle;\n    }\n\n    .dataframe tbody tr th {\n        vertical-align: top;\n    }\n\n    .dataframe thead th {\n        text-align: right;\n    }\n</style>\n<table border=\"1\" class=\"dataframe\">\n  <thead>\n    <tr style=\"text-align: right;\">\n      <th></th>\n      <th>year</th>\n      <th>ieefa_total_mw</th>\n    </tr>\n  </thead>\n  <tbody>\n    <tr>\n      <th>0</th>\n      <td>2011</td>\n      <td>0</td>\n    </tr>\n    <tr>\n      <th>1</th>\n      <td>2012</td>\n      <td>38</td>\n    </tr>\n    <tr>\n      <th>2</th>\n      <td>2013</td>\n      <td>117</td>\n    </tr>\n    <tr>\n      <th>3</th>\n      <td>2014</td>\n      <td>286</td>\n    </tr>\n    <tr>\n      <th>4</th>\n      <td>2015</td>\n      <td>623</td>\n    </tr>\n    <tr>\n      <th>5</th>\n      <td>2016</td>\n      <td>1179</td>\n    </tr>\n    <tr>\n      <th>6</th>\n      <td>2017</td>\n      <td>2177</td>\n    </tr>\n    <tr>\n      <th>7</th>\n      <td>2018</td>\n      <td>3855</td>\n    </tr>\n    <tr>\n      <th>8</th>\n      <td>2019</td>\n      <td>5855</td>\n    </tr>\n    <tr>\n      <th>9</th>\n      <td>2020</td>\n      <td>8855</td>\n    </tr>\n    <tr>\n      <th>10</th>\n      <td>2021</td>\n      <td>12855</td>\n    </tr>\n  </tbody>\n</table>\n</div>"
     },
     "metadata": {},
     "execution_count": 4
    }
   ],
   "source": [
    "all_india = pd.read_csv(os.path.join('reference_data','ieefa_india_national_mw.csv'))\n",
    "# all_india['annual_installed_mw'] = all_india['ieefa_total_mw'].diff(1)\n",
    "all_india"
   ]
  },
  {
   "cell_type": "code",
   "execution_count": 5,
   "metadata": {},
   "outputs": [
    {
     "output_type": "stream",
     "name": "stdout",
     "text": [
      "2017 1442.0 2177 1.5097087378640777\n2018 2814.0 3855 1.3699360341151385\n2019 4429.0 5855 1.3219688417249944\n2016 2177.0 1179 0.5415709692237023\n2015 1179.0 623 0.5284139100932994\n2014 623.0 286 0.4590690208667737\n2013 286.0 117 0.40909090909090906\n2012 116.99999999999997 38 0.32478632478632485\n2011 38.00000000000001 0 0.0\n2020 5855.0 8855 1.5123825789923142\n2021 8855.0 12855 1.4517221908526257\n"
     ]
    }
   ],
   "source": [
    "# --- Scale state/sector to meet annual estimates ---\n",
    "g = by_sector.groupby(['year'])['cum_mw'].sum()\n",
    "for y in set(by_sector['year']):\n",
    "    old_mw = g[y]\n",
    "    new_mw = all_india.loc[all_india['year']==y, 'ieefa_total_mw'].values[0]\n",
    "    multiplier = 1 + ((new_mw - old_mw) / old_mw)\n",
    "    print(y, old_mw, new_mw, multiplier)\n",
    "    by_sector.loc[by_sector['year'] == y, 'cum_mw'] *= multiplier\n",
    "\n",
    "# --- Extrapolate state level data to previous years with national sums ---\n",
    "years = [i for i in set(all_india['year']) if i < by_sector['year'].min()]\n",
    "years.sort()\n",
    "years.reverse()\n",
    "for y in years:\n",
    "    next_year = by_sector.loc[by_sector['year'] == y+1]\n",
    "    old_mw = next_year['cum_mw'].sum()\n",
    "    new_mw = all_india.loc[all_india['year']==y, 'ieefa_total_mw'].values[0]\n",
    "    multiplier = 1 + ((new_mw - old_mw) / old_mw)\n",
    "    next_year['cum_mw'] *= multiplier\n",
    "    next_year['year'] = y\n",
    "    by_sector = pd.concat([by_sector, next_year], axis='rows')\n",
    "    print(y, old_mw, new_mw, multiplier)\n",
    "\n",
    "# --- Extrapolate projected capacity growth forward ---\n",
    "years = [i for i in set(all_india['year']) if i > by_sector['year'].max()]\n",
    "years.sort()\n",
    "for y in years:\n",
    "    last_year = by_sector.loc[by_sector['year'] == y-1]\n",
    "    old_mw = last_year['cum_mw'].sum()\n",
    "    new_mw = all_india.loc[all_india['year']==y, 'ieefa_total_mw'].values[0]\n",
    "    multiplier = 1 + ((new_mw - old_mw) / old_mw)\n",
    "    last_year['cum_mw'] *= multiplier\n",
    "    last_year['year'] = y\n",
    "    by_sector = pd.concat([by_sector, last_year], axis='rows')\n",
    "    print(y, old_mw, new_mw, multiplier)\n"
   ]
  },
  {
   "cell_type": "code",
   "execution_count": 14,
   "metadata": {},
   "outputs": [],
   "source": [
    "# --- identify states with no capacity ---\n",
    "for state in agent_df['state_name'].unique():\n",
    "    for sector in agent_df['sector_abbr'].unique():\n",
    "        if sector != 'agg':\n",
    "            state_mask = (by_sector['state_name'] == state)\n",
    "            sector_mask = (by_sector['sector_abbr'] == sector)\n",
    "            sub_df = by_sector.loc[state_mask & sector_mask]\n",
    "            assert len(sub_df) != 0\n",
    "\n",
    "# --- Calculate number of adopters from cumulative capacity ---\n",
    "system_size_dict = {'res':4, 'com':32, 'ind':400} #based on avg rootop size\n",
    "by_sector['cum_installed_count'] = by_sector['cum_mw'] / by_sector['sector_abbr'].map(system_size_dict) * 1000\n",
    "\n",
    "# --- create annual installtions ---\n",
    "by_sector.sort_values(['state_name','sector_abbr','year'], inplace=True)\n",
    "by_sector['annual_installed_mw'] = by_sector.groupby(['state_name','state_id','sector_abbr'])['cum_mw'].transform(lambda x: x.diff(1))\n",
    "by_sector['annual_installed_count'] = by_sector.groupby(['state_name','state_id','sector_abbr'])['cum_installed_count'].transform(lambda x: x.diff(1))\n",
    "by_sector[['cum_mw','cum_mw','annual_installed_mw','annual_installed_count']] = by_sector[['cum_mw','cum_mw','annual_installed_mw','annual_installed_count']].fillna(0).clip(0)\n",
    "\n",
    "# --- Output annual installations for bass fitting ---\n",
    "by_sector.to_csv(os.path.join('reference_data', 'clean_pv_installed_all_years.csv'), index=False)\n",
    "\n",
    "# --- Make cumulative for pv_state_starting_capacities ---\n",
    "out = by_sector.loc[by_sector['year'] == 2020]\n",
    "out = out[['state_id','sector_abbr','cum_installed_count','cum_mw']]\n",
    "out.rename({'cum_installed_count':'pv_systems_count', 'cum_installed_mw':'pv_capacity_mw'}, axis='columns', inplace=True)\n",
    "out.to_csv(os.path.join('india_base', 'pv_state_starting_capacities.csv'), index=False)"
   ]
  },
  {
   "cell_type": "code",
   "execution_count": 9,
   "metadata": {},
   "outputs": [
    {
     "output_type": "execute_result",
     "data": {
      "text/plain": [
       "                  state_name  state_id sector_abbr  year      cum_mw  \\\n",
       "0    andaman_nicobar_islands        35         com  2011    0.000000   \n",
       "0    andaman_nicobar_islands        35         com  2012    0.000000   \n",
       "0    andaman_nicobar_islands        35         com  2013    0.000000   \n",
       "0    andaman_nicobar_islands        35         com  2014    0.000000   \n",
       "0    andaman_nicobar_islands        35         com  2015    0.000000   \n",
       "..                       ...       ...         ...   ...         ...   \n",
       "312              west_bengal        19         res  2017   10.567961   \n",
       "313              west_bengal        19         res  2018   32.878465   \n",
       "314              west_bengal        19         res  2019   52.878754   \n",
       "314              west_bengal        19         res  2020   79.972906   \n",
       "314              west_bengal        19         res  2021  116.098442   \n",
       "\n",
       "     cum_installed_count  annual_installed_mw  annual_installed_count  \n",
       "0               0.000000             0.000000                0.000000  \n",
       "0               0.000000             0.000000                0.000000  \n",
       "0               0.000000             0.000000                0.000000  \n",
       "0               0.000000             0.000000                0.000000  \n",
       "0               0.000000             0.000000                0.000000  \n",
       "..                   ...                  ...                     ...  \n",
       "312          2641.990291             4.844660             1211.165049  \n",
       "313          8219.616205            22.310504             5577.625913  \n",
       "314         13219.688417            20.000289             5000.072213  \n",
       "314         19993.226462            27.094152             6773.538045  \n",
       "314         29024.610522            36.125536             9031.384060  \n",
       "\n",
       "[1155 rows x 8 columns]"
      ],
      "text/html": "<div>\n<style scoped>\n    .dataframe tbody tr th:only-of-type {\n        vertical-align: middle;\n    }\n\n    .dataframe tbody tr th {\n        vertical-align: top;\n    }\n\n    .dataframe thead th {\n        text-align: right;\n    }\n</style>\n<table border=\"1\" class=\"dataframe\">\n  <thead>\n    <tr style=\"text-align: right;\">\n      <th></th>\n      <th>state_name</th>\n      <th>state_id</th>\n      <th>sector_abbr</th>\n      <th>year</th>\n      <th>cum_mw</th>\n      <th>cum_installed_count</th>\n      <th>annual_installed_mw</th>\n      <th>annual_installed_count</th>\n    </tr>\n  </thead>\n  <tbody>\n    <tr>\n      <th>0</th>\n      <td>andaman_nicobar_islands</td>\n      <td>35</td>\n      <td>com</td>\n      <td>2011</td>\n      <td>0.000000</td>\n      <td>0.000000</td>\n      <td>0.000000</td>\n      <td>0.000000</td>\n    </tr>\n    <tr>\n      <th>0</th>\n      <td>andaman_nicobar_islands</td>\n      <td>35</td>\n      <td>com</td>\n      <td>2012</td>\n      <td>0.000000</td>\n      <td>0.000000</td>\n      <td>0.000000</td>\n      <td>0.000000</td>\n    </tr>\n    <tr>\n      <th>0</th>\n      <td>andaman_nicobar_islands</td>\n      <td>35</td>\n      <td>com</td>\n      <td>2013</td>\n      <td>0.000000</td>\n      <td>0.000000</td>\n      <td>0.000000</td>\n      <td>0.000000</td>\n    </tr>\n    <tr>\n      <th>0</th>\n      <td>andaman_nicobar_islands</td>\n      <td>35</td>\n      <td>com</td>\n      <td>2014</td>\n      <td>0.000000</td>\n      <td>0.000000</td>\n      <td>0.000000</td>\n      <td>0.000000</td>\n    </tr>\n    <tr>\n      <th>0</th>\n      <td>andaman_nicobar_islands</td>\n      <td>35</td>\n      <td>com</td>\n      <td>2015</td>\n      <td>0.000000</td>\n      <td>0.000000</td>\n      <td>0.000000</td>\n      <td>0.000000</td>\n    </tr>\n    <tr>\n      <th>...</th>\n      <td>...</td>\n      <td>...</td>\n      <td>...</td>\n      <td>...</td>\n      <td>...</td>\n      <td>...</td>\n      <td>...</td>\n      <td>...</td>\n    </tr>\n    <tr>\n      <th>312</th>\n      <td>west_bengal</td>\n      <td>19</td>\n      <td>res</td>\n      <td>2017</td>\n      <td>10.567961</td>\n      <td>2641.990291</td>\n      <td>4.844660</td>\n      <td>1211.165049</td>\n    </tr>\n    <tr>\n      <th>313</th>\n      <td>west_bengal</td>\n      <td>19</td>\n      <td>res</td>\n      <td>2018</td>\n      <td>32.878465</td>\n      <td>8219.616205</td>\n      <td>22.310504</td>\n      <td>5577.625913</td>\n    </tr>\n    <tr>\n      <th>314</th>\n      <td>west_bengal</td>\n      <td>19</td>\n      <td>res</td>\n      <td>2019</td>\n      <td>52.878754</td>\n      <td>13219.688417</td>\n      <td>20.000289</td>\n      <td>5000.072213</td>\n    </tr>\n    <tr>\n      <th>314</th>\n      <td>west_bengal</td>\n      <td>19</td>\n      <td>res</td>\n      <td>2020</td>\n      <td>79.972906</td>\n      <td>19993.226462</td>\n      <td>27.094152</td>\n      <td>6773.538045</td>\n    </tr>\n    <tr>\n      <th>314</th>\n      <td>west_bengal</td>\n      <td>19</td>\n      <td>res</td>\n      <td>2021</td>\n      <td>116.098442</td>\n      <td>29024.610522</td>\n      <td>36.125536</td>\n      <td>9031.384060</td>\n    </tr>\n  </tbody>\n</table>\n<p>1155 rows × 8 columns</p>\n</div>"
     },
     "metadata": {},
     "execution_count": 9
    }
   ],
   "source": [
    "by_sector"
   ]
  }
 ]
}
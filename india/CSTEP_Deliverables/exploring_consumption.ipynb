{
 "cells": [
  {
   "cell_type": "markdown",
   "metadata": {},
   "source": [
    "#### GOAL:\n",
    "Use Bangalore's Customer Counts by sector to get average consumption per customer by sector\n",
    "\n",
    "#### PROBLEM:\n",
    "Multiple tariffs by sector. \n",
    "\n",
    "#### IMPLEMENTATION:\n",
    "    1. Group tariffs by sector. \n",
    "    2. Convert monthly consumption to annual. \n",
    "    3. Get annual consumption by customer by sector, and number of customers by sector. "
   ]
  },
  {
   "cell_type": "code",
   "execution_count": 1,
   "metadata": {},
   "outputs": [],
   "source": [
    "import pandas as pd\n",
    "import numpy as np\n",
    "import os\n",
    "import matplotlib.pyplot as plt\n",
    "import numpy as np\n",
    "import scipy.stats as stats\n",
    "import math\n"
   ]
  },
  {
   "cell_type": "code",
   "execution_count": 2,
   "metadata": {},
   "outputs": [
    {
     "name": "stdout",
     "output_type": "stream",
     "text": [
      "\u001b[34mFinancing of Solar Rooftop\u001b[m\u001b[m   \u001b[34mSubscriber Count\u001b[m\u001b[m\r\n",
      "\u001b[34mPolicy Overview _ Tariffs\u001b[m\u001b[m    exploring_consumption.ipynb\r\n",
      "\u001b[34mPolygon Area\u001b[m\u001b[m                 exploring_roofs.ipynb\r\n",
      "\u001b[31mProspective Feeder List.xlsx\u001b[m\u001b[m\r\n"
     ]
    }
   ],
   "source": [
    "!ls"
   ]
  },
  {
   "cell_type": "code",
   "execution_count": 3,
   "metadata": {},
   "outputs": [],
   "source": [
    "df = pd.read_excel(os.path.join('Subscriber Count', 'bescom_customers.xlsx'))"
   ]
  },
  {
   "cell_type": "code",
   "execution_count": 4,
   "metadata": {},
   "outputs": [],
   "source": [
    "df['annual_avg_kwh'] = df['monthly_kwh'] * 12\n",
    "df['annual_tariff_kwh'] = df['customers'] * df['annual_avg_kwh']\n",
    "df = df[['sector_abbr','customers','annual_avg_kwh','annual_tariff_kwh']]"
   ]
  },
  {
   "cell_type": "code",
   "execution_count": 5,
   "metadata": {},
   "outputs": [],
   "source": [
    "# --- group by sector ---\n",
    "g = df.groupby(['sector_abbr'])[['annual_tariff_kwh','customers']].sum() \n",
    "g['mu_kwh'] = g['annual_tariff_kwh'] / g['customers'] #avoid average of averages\n",
    "g['sector_pct'] = g['annual_tariff_kwh'] / g['annual_tariff_kwh'].sum()"
   ]
  },
  {
   "cell_type": "code",
   "execution_count": 6,
   "metadata": {},
   "outputs": [],
   "source": [
    "# --- calc weighted std --- \n",
    "def weighted_std(values, weights):\n",
    "    mu = np.average(values, weights=weights)\n",
    "    variance = np.average((values-mu)**2, weights=weights)\n",
    "    return math.sqrt(variance)\n",
    "\n",
    "customer_weighted_std = lambda x: weighted_std(x, weights=df.loc[x.index, 'customers'])\n",
    "w_stds = df.groupby(['sector_abbr'])['annual_avg_kwh'].agg(customer_weighted_std)\n",
    "g['sigma_kwh'] = w_stds\n",
    "g['sigma_pct_load'] = g['sigma_kwh'] / g['mu_kwh']"
   ]
  },
  {
   "cell_type": "code",
   "execution_count": 17,
   "metadata": {},
   "outputs": [],
   "source": [
    "# --- load number of households from census ---\n",
    "census = pd.read_csv(os.path.join(os.pardir, 'reference_data','india_census','india_district_pop_2011.csv'))\n",
    "hh = census.loc[census['district_name'] == 'bangalore','households'].values[0]\n",
    "\n",
    "g['customers_per_hh'] = g['customers'] / hh"
   ]
  },
  {
   "cell_type": "code",
   "execution_count": 18,
   "metadata": {},
   "outputs": [
    {
     "data": {
      "text/html": [
       "<div>\n",
       "<style scoped>\n",
       "    .dataframe tbody tr th:only-of-type {\n",
       "        vertical-align: middle;\n",
       "    }\n",
       "\n",
       "    .dataframe tbody tr th {\n",
       "        vertical-align: top;\n",
       "    }\n",
       "\n",
       "    .dataframe thead th {\n",
       "        text-align: right;\n",
       "    }\n",
       "</style>\n",
       "<table border=\"1\" class=\"dataframe\">\n",
       "  <thead>\n",
       "    <tr style=\"text-align: right;\">\n",
       "      <th></th>\n",
       "      <th>annual_tariff_kwh</th>\n",
       "      <th>customers</th>\n",
       "      <th>mu_kwh</th>\n",
       "      <th>sector_pct</th>\n",
       "      <th>sigma_kwh</th>\n",
       "      <th>sigma_pct_load</th>\n",
       "      <th>customers_per_hh</th>\n",
       "    </tr>\n",
       "    <tr>\n",
       "      <th>sector_abbr</th>\n",
       "      <th></th>\n",
       "      <th></th>\n",
       "      <th></th>\n",
       "      <th></th>\n",
       "      <th></th>\n",
       "      <th></th>\n",
       "      <th></th>\n",
       "    </tr>\n",
       "  </thead>\n",
       "  <tbody>\n",
       "    <tr>\n",
       "      <th>agg</th>\n",
       "      <td>4.001025e+08</td>\n",
       "      <td>9080</td>\n",
       "      <td>44064.155569</td>\n",
       "      <td>0.027112</td>\n",
       "      <td>152852.250582</td>\n",
       "      <td>3.468857</td>\n",
       "      <td>0.003793</td>\n",
       "    </tr>\n",
       "    <tr>\n",
       "      <th>com</th>\n",
       "      <td>2.384538e+09</td>\n",
       "      <td>674743</td>\n",
       "      <td>3533.994932</td>\n",
       "      <td>0.161582</td>\n",
       "      <td>5304.220048</td>\n",
       "      <td>1.500913</td>\n",
       "      <td>0.281866</td>\n",
       "    </tr>\n",
       "    <tr>\n",
       "      <th>ind</th>\n",
       "      <td>6.712859e+09</td>\n",
       "      <td>7610</td>\n",
       "      <td>882110.302991</td>\n",
       "      <td>0.454881</td>\n",
       "      <td>539450.206531</td>\n",
       "      <td>0.611545</td>\n",
       "      <td>0.003179</td>\n",
       "    </tr>\n",
       "    <tr>\n",
       "      <th>res</th>\n",
       "      <td>5.259905e+09</td>\n",
       "      <td>4310647</td>\n",
       "      <td>1220.212378</td>\n",
       "      <td>0.356425</td>\n",
       "      <td>189.689174</td>\n",
       "      <td>0.155456</td>\n",
       "      <td>1.800721</td>\n",
       "    </tr>\n",
       "  </tbody>\n",
       "</table>\n",
       "</div>"
      ],
      "text/plain": [
       "             annual_tariff_kwh  customers         mu_kwh  sector_pct  \\\n",
       "sector_abbr                                                            \n",
       "agg               4.001025e+08       9080   44064.155569    0.027112   \n",
       "com               2.384538e+09     674743    3533.994932    0.161582   \n",
       "ind               6.712859e+09       7610  882110.302991    0.454881   \n",
       "res               5.259905e+09    4310647    1220.212378    0.356425   \n",
       "\n",
       "                 sigma_kwh  sigma_pct_load  customers_per_hh  \n",
       "sector_abbr                                                   \n",
       "agg          152852.250582        3.468857          0.003793  \n",
       "com            5304.220048        1.500913          0.281866  \n",
       "ind          539450.206531        0.611545          0.003179  \n",
       "res             189.689174        0.155456          1.800721  "
      ]
     },
     "execution_count": 18,
     "metadata": {},
     "output_type": "execute_result"
    }
   ],
   "source": [
    "g"
   ]
  },
  {
   "cell_type": "code",
   "execution_count": 8,
   "metadata": {},
   "outputs": [
    {
     "data": {
      "text/plain": [
       "<matplotlib.legend.Legend at 0x1a182eb110>"
      ]
     },
     "execution_count": 8,
     "metadata": {},
     "output_type": "execute_result"
    },
    {
     "data": {
      "image/png": "[encoded data removed]",
      "text/plain": [
       "<Figure size 432x288 with 1 Axes>"
      ]
     },
     "metadata": {
      "needs_background": "light"
     },
     "output_type": "display_data"
    }
   ],
   "source": [
    "fig, ax = plt.subplots()\n",
    "\n",
    "for sector, row in g.iterrows():\n",
    "    mu = row['mu_kwh']\n",
    "    sigma = row['sigma_kwh']\n",
    "    \n",
    "    x = abs(np.linspace(mu - 3*sigma, mu + 3*sigma, 300))\n",
    "    y = stats.norm.cdf(x, mu, sigma)\n",
    "    ax.plot(x, y, label=sector)\n",
    "    \n",
    "ax.set_title('CDF of Abs Normal Distribution of Load by Sector')\n",
    "ax.set_xlabel('Load (kWh)')\n",
    "ax.set_ylabel('CDF (%)')\n",
    "ax.set_xlim(10,5e6)\n",
    "ax.set_xscale('log')\n",
    "ax.legend()"
   ]
  },
  {
   "cell_type": "code",
   "execution_count": null,
   "metadata": {},
   "outputs": [],
   "source": [
    "n_res = 4310647\n",
    "n_com = 674743\n",
    "n_ind = 7610"
   ]
  }
 ],
 "metadata": {
  "kernelspec": {
   "display_name": "Python 3",
   "language": "python",
   "name": "python3"
  },
  "language_info": {
   "codemirror_mode": {
    "name": "ipython",
    "version": 3
   },
   "file_extension": ".py",
   "mimetype": "text/x-python",
   "name": "python",
   "nbconvert_exporter": "python",
   "pygments_lexer": "ipython3",
   "version": "3.7.7"
  }
 },
 "nbformat": 4,
 "nbformat_minor": 4
}

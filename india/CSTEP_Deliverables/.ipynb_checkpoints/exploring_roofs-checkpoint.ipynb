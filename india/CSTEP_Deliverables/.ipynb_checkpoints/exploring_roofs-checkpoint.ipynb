{
 "cells": [
  {
   "cell_type": "markdown",
   "metadata": {},
   "source": [
    "#### GOAL:\n",
    "Use LiDAR Roof data to develop distributions of roofsize by sector that can be sampled as representative for all of India.\n",
    "\n",
    "#### PROBLEM:\n",
    "We have over 4 million polygons, which *may* be associated with a single roof, however multiple polygons may also symbolize multiple planes of a single roof\n",
    "\n",
    "#### IMPLEMENTATION:\n",
    "    1. Take sum of all rooftop area.\n",
    "    2. Sample polygons equal to number of customers. \n",
    "    3. Multiply sampled polygons by scaler to equal total rooftop area. So that 1 polygon becomes representative of an entire roof.\n",
    "    4. Split matrix into three clusters, based on multiples of standard deviation as a threashold."
   ]
  },
  {
   "cell_type": "code",
   "execution_count": 1,
   "metadata": {},
   "outputs": [],
   "source": [
    "import pandas as pd\n",
    "import numpy as np\n",
    "import os\n",
    "import matplotlib.pyplot as plt\n",
    "import numpy as np\n",
    "import scipy.stats as stats\n",
    "import math\n",
    "\n"
   ]
  },
  {
   "cell_type": "code",
   "execution_count": 2,
   "metadata": {
    "scrolled": true
   },
   "outputs": [
    {
     "name": "stdout",
     "output_type": "stream",
     "text": [
      "\u001b[34mFinancing of Solar Rooftop\u001b[m\u001b[m   \u001b[34mSubscriber Count\u001b[m\u001b[m\r\n",
      "\u001b[34mPolicy Overview _ Tariffs\u001b[m\u001b[m    exploring_consumption.ipynb\r\n",
      "\u001b[34mPolygon Area\u001b[m\u001b[m                 exploring_roofs.ipynb\r\n",
      "\u001b[31mProspective Feeder List.xlsx\u001b[m\u001b[m\r\n"
     ]
    }
   ],
   "source": [
    "!ls"
   ]
  },
  {
   "cell_type": "code",
   "execution_count": 3,
   "metadata": {
    "scrolled": true
   },
   "outputs": [],
   "source": [
    "polygons_dict = pd.read_excel(os.path.join('Polygon Area','NREL All Polygon List.xlsx'),\n",
    "                           sheet_name=None,\n",
    "                           usecols='F,G')\n",
    "polygons = pd.concat([df for df in polygons_dict.values()], axis='rows', ignore_index=True)"
   ]
  },
  {
   "cell_type": "code",
   "execution_count": 4,
   "metadata": {},
   "outputs": [],
   "source": [
    "polygons *= 10.764 #sqm to sqft\n",
    "polygons.columns = ['total_sqft','developable_sqft']\n",
    "polygons = polygons.loc[polygons['developable_sqft'] > 0]"
   ]
  },
  {
   "cell_type": "code",
   "execution_count": 5,
   "metadata": {},
   "outputs": [
    {
     "data": {
      "text/html": [
       "<div>\n",
       "<style scoped>\n",
       "    .dataframe tbody tr th:only-of-type {\n",
       "        vertical-align: middle;\n",
       "    }\n",
       "\n",
       "    .dataframe tbody tr th {\n",
       "        vertical-align: top;\n",
       "    }\n",
       "\n",
       "    .dataframe thead th {\n",
       "        text-align: right;\n",
       "    }\n",
       "</style>\n",
       "<table border=\"1\" class=\"dataframe\">\n",
       "  <thead>\n",
       "    <tr style=\"text-align: right;\">\n",
       "      <th></th>\n",
       "      <th>total_sqft</th>\n",
       "      <th>developable_sqft</th>\n",
       "    </tr>\n",
       "  </thead>\n",
       "  <tbody>\n",
       "    <tr>\n",
       "      <th>count</th>\n",
       "      <td>651067.000000</td>\n",
       "      <td>651067.000000</td>\n",
       "    </tr>\n",
       "    <tr>\n",
       "      <th>mean</th>\n",
       "      <td>1184.513477</td>\n",
       "      <td>308.198612</td>\n",
       "    </tr>\n",
       "    <tr>\n",
       "      <th>std</th>\n",
       "      <td>1942.038836</td>\n",
       "      <td>888.850486</td>\n",
       "    </tr>\n",
       "    <tr>\n",
       "      <th>min</th>\n",
       "      <td>108.070560</td>\n",
       "      <td>64.584000</td>\n",
       "    </tr>\n",
       "    <tr>\n",
       "      <th>25%</th>\n",
       "      <td>510.859440</td>\n",
       "      <td>86.112000</td>\n",
       "    </tr>\n",
       "    <tr>\n",
       "      <th>50%</th>\n",
       "      <td>801.810360</td>\n",
       "      <td>129.168000</td>\n",
       "    </tr>\n",
       "    <tr>\n",
       "      <th>75%</th>\n",
       "      <td>1211.488200</td>\n",
       "      <td>258.336000</td>\n",
       "    </tr>\n",
       "    <tr>\n",
       "      <th>max</th>\n",
       "      <td>173691.456120</td>\n",
       "      <td>109211.544000</td>\n",
       "    </tr>\n",
       "  </tbody>\n",
       "</table>\n",
       "</div>"
      ],
      "text/plain": [
       "          total_sqft  developable_sqft\n",
       "count  651067.000000     651067.000000\n",
       "mean     1184.513477        308.198612\n",
       "std      1942.038836        888.850486\n",
       "min       108.070560         64.584000\n",
       "25%       510.859440         86.112000\n",
       "50%       801.810360        129.168000\n",
       "75%      1211.488200        258.336000\n",
       "max    173691.456120     109211.544000"
      ]
     },
     "execution_count": 5,
     "metadata": {},
     "output_type": "execute_result"
    }
   ],
   "source": [
    "polygons.describe()"
   ]
  },
  {
   "cell_type": "code",
   "execution_count": 6,
   "metadata": {},
   "outputs": [],
   "source": [
    "# 1) Take sum of all rooftop area\n",
    "total_area = polygons['developable_sqft'].sum()"
   ]
  },
  {
   "cell_type": "code",
   "execution_count": 16,
   "metadata": {},
   "outputs": [],
   "source": [
    "#2) Sample polygons equal to number of customers \n",
    "\n",
    "n_res = 4310647\n",
    "n_com = 674743\n",
    "n_ind = 7610\n",
    "n_customers = n_res + n_com + n_ind\n",
    "\n",
    "roofs = polygons.sample(n_customers, replace=True)\n",
    "roofs = roofs['developable_sqft'].copy()\n"
   ]
  },
  {
   "cell_type": "code",
   "execution_count": 24,
   "metadata": {},
   "outputs": [
    {
     "name": "stdout",
     "output_type": "stream",
     "text": [
      "res mu:149.33, std:91.45\n",
      "com mu:1155.37, std:1075.19\n",
      "ind mu:15169.55, std:10717.58\n"
     ]
    },
    {
     "data": {
      "text/plain": [
       "Text(0.5, 1.0, 'CDF of Developable Sqft by Sector')"
      ]
     },
     "execution_count": 24,
     "metadata": {},
     "output_type": "execute_result"
    },
    {
     "data": {
      "image/png": "[encoded data removed]",
      "text/plain": [
       "<Figure size 432x288 with 1 Axes>"
      ]
     },
     "metadata": {
      "needs_background": "light"
     },
     "output_type": "display_data"
    }
   ],
   "source": [
    "#4) Sort roofs and break into thirds equal to number of customers in each sector\n",
    "roofs.sort_values(inplace=True, ascending=True)\n",
    "res = roofs[:n_res]\n",
    "com = roofs[n_res:(n_res+n_com)]\n",
    "ind = roofs[(n_res+n_com):]\n",
    "\n",
    "fig, ax = plt.subplots()\n",
    "\n",
    "for sector, df in zip(['res', 'com', 'ind'], [res, com, ind]):\n",
    "    mu = df.mean()\n",
    "    sigma = df.std()\n",
    "    print(f\"{sector} mu:{round(mu,2)}, std:{round(sigma,2)}\")\n",
    "    \n",
    "    x = abs(np.linspace(mu - 3*sigma, mu + 3*sigma, 300))\n",
    "    y = stats.norm.cdf(x, mu, sigma)\n",
    "    ax.plot(x, y, label=sector)\n",
    "    \n",
    "ax.set_xscale('log')\n",
    "ax.set_xlabel('Roof Developable Area (sqft)')\n",
    "ax.set_ylabel('CDF (%)')\n",
    "ax.set_title('CDF of Developable Sqft by Sector')"
   ]
  },
  {
   "cell_type": "code",
   "execution_count": null,
   "metadata": {},
   "outputs": [],
   "source": [
    "mask = (roofs['sqm'] < (mu + 1*std))\n",
    "df = roofs.loc[mask]\n",
    "df.hist(bins=100)"
   ]
  },
  {
   "cell_type": "code",
   "execution_count": null,
   "metadata": {},
   "outputs": [],
   "source": [
    "# divide roofs into "
   ]
  }
 ],
 "metadata": {
  "kernelspec": {
   "display_name": "Python 3",
   "language": "python",
   "name": "python3"
  },
  "language_info": {
   "codemirror_mode": {
    "name": "ipython",
    "version": 3
   },
   "file_extension": ".py",
   "mimetype": "text/x-python",
   "name": "python",
   "nbconvert_exporter": "python",
   "pygments_lexer": "ipython3",
   "version": "3.7.7"
  }
 },
 "nbformat": 4,
 "nbformat_minor": 4
}
